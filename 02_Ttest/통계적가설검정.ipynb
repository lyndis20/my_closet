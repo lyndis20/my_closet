{
 "cells": [
  {
   "cell_type": "code",
   "execution_count": 2,
   "id": "4f7a9d93",
   "metadata": {},
   "outputs": [],
   "source": [
    "import pandas as pd\n",
    "import numpy as np\n",
    "import seaborn as sns\n",
    "import matplotlib.pyplot as plt\n",
    "import koreanize_matplotlib"
   ]
  },
  {
   "cell_type": "code",
   "execution_count": 3,
   "id": "1827a3e8",
   "metadata": {},
   "outputs": [],
   "source": [
    "path = \"/Users/younghyunkim/Desktop/dataproject/my_closet/00_raw_data\""
   ]
  },
  {
   "cell_type": "code",
   "execution_count": 4,
   "id": "29b8e0b9",
   "metadata": {},
   "outputs": [
    {
     "data": {
      "text/html": [
       "<div>\n",
       "<style scoped>\n",
       "    .dataframe tbody tr th:only-of-type {\n",
       "        vertical-align: middle;\n",
       "    }\n",
       "\n",
       "    .dataframe tbody tr th {\n",
       "        vertical-align: top;\n",
       "    }\n",
       "\n",
       "    .dataframe thead th {\n",
       "        text-align: right;\n",
       "    }\n",
       "</style>\n",
       "<table border=\"1\" class=\"dataframe\">\n",
       "  <thead>\n",
       "    <tr style=\"text-align: right;\">\n",
       "      <th></th>\n",
       "      <th>제품명</th>\n",
       "      <th>계절</th>\n",
       "      <th>구매 년도</th>\n",
       "      <th>카테고리</th>\n",
       "      <th>구매처</th>\n",
       "      <th>브랜드 여부</th>\n",
       "      <th>구매 전 착용 여부</th>\n",
       "      <th>색상</th>\n",
       "      <th>가격</th>\n",
       "      <th>유행 여부</th>\n",
       "      <th>구매 목적</th>\n",
       "      <th>최근 1년 내 착용 여부</th>\n",
       "      <th>착용 빈도</th>\n",
       "      <th>만족도</th>\n",
       "      <th>주변 평가</th>\n",
       "      <th>성공점수</th>\n",
       "      <th>색상그룹</th>\n",
       "      <th>가격_bin</th>\n",
       "      <th>가격_q_bin</th>\n",
       "      <th>성공여부</th>\n",
       "    </tr>\n",
       "  </thead>\n",
       "  <tbody>\n",
       "    <tr>\n",
       "      <th>0</th>\n",
       "      <td>배색 가디건 네이비</td>\n",
       "      <td>봄가을</td>\n",
       "      <td>2021</td>\n",
       "      <td>상의</td>\n",
       "      <td>1</td>\n",
       "      <td>0</td>\n",
       "      <td>1</td>\n",
       "      <td>네이비</td>\n",
       "      <td>3</td>\n",
       "      <td>0</td>\n",
       "      <td>일상</td>\n",
       "      <td>1</td>\n",
       "      <td>5</td>\n",
       "      <td>5</td>\n",
       "      <td>3</td>\n",
       "      <td>4.333333</td>\n",
       "      <td>블루 계열</td>\n",
       "      <td>1-4</td>\n",
       "      <td>매우 낮은 가격</td>\n",
       "      <td>1</td>\n",
       "    </tr>\n",
       "    <tr>\n",
       "      <th>1</th>\n",
       "      <td>배색 가디건 하늘</td>\n",
       "      <td>봄가을</td>\n",
       "      <td>2021</td>\n",
       "      <td>상의</td>\n",
       "      <td>0</td>\n",
       "      <td>0</td>\n",
       "      <td>1</td>\n",
       "      <td>스카이블루</td>\n",
       "      <td>3</td>\n",
       "      <td>0</td>\n",
       "      <td>일상</td>\n",
       "      <td>1</td>\n",
       "      <td>3</td>\n",
       "      <td>4</td>\n",
       "      <td>4</td>\n",
       "      <td>3.666667</td>\n",
       "      <td>블루 계열</td>\n",
       "      <td>1-4</td>\n",
       "      <td>매우 낮은 가격</td>\n",
       "      <td>1</td>\n",
       "    </tr>\n",
       "    <tr>\n",
       "      <th>2</th>\n",
       "      <td>줄무늬 티셔츠</td>\n",
       "      <td>봄가을</td>\n",
       "      <td>2014</td>\n",
       "      <td>상의</td>\n",
       "      <td>0</td>\n",
       "      <td>0</td>\n",
       "      <td>0</td>\n",
       "      <td>네이비</td>\n",
       "      <td>1</td>\n",
       "      <td>0</td>\n",
       "      <td>일상</td>\n",
       "      <td>1</td>\n",
       "      <td>4</td>\n",
       "      <td>5</td>\n",
       "      <td>4</td>\n",
       "      <td>4.333333</td>\n",
       "      <td>블루 계열</td>\n",
       "      <td>1-4</td>\n",
       "      <td>매우 낮은 가격</td>\n",
       "      <td>1</td>\n",
       "    </tr>\n",
       "  </tbody>\n",
       "</table>\n",
       "</div>"
      ],
      "text/plain": [
       "          제품명   계절  구매 년도 카테고리  구매처  브랜드 여부  구매 전 착용 여부     색상  가격  유행 여부  \\\n",
       "0  배색 가디건 네이비  봄가을   2021   상의    1       0           1    네이비   3      0   \n",
       "1   배색 가디건 하늘  봄가을   2021   상의    0       0           1  스카이블루   3      0   \n",
       "2     줄무늬 티셔츠  봄가을   2014   상의    0       0           0    네이비   1      0   \n",
       "\n",
       "  구매 목적  최근 1년 내 착용 여부  착용 빈도  만족도  주변 평가      성공점수   색상그룹 가격_bin  가격_q_bin  \\\n",
       "0    일상              1      5    5      3  4.333333  블루 계열    1-4  매우 낮은 가격   \n",
       "1    일상              1      3    4      4  3.666667  블루 계열    1-4  매우 낮은 가격   \n",
       "2    일상              1      4    5      4  4.333333  블루 계열    1-4  매우 낮은 가격   \n",
       "\n",
       "   성공여부  \n",
       "0     1  \n",
       "1     1  \n",
       "2     1  "
      ]
     },
     "execution_count": 4,
     "metadata": {},
     "output_type": "execute_result"
    }
   ],
   "source": [
    "df = pd.read_csv(f\"{path}/closet_data_v3.csv\")\n",
    "df.head(3)"
   ]
  },
  {
   "cell_type": "code",
   "execution_count": 6,
   "id": "ed9072f9",
   "metadata": {},
   "outputs": [
    {
     "data": {
      "text/plain": [
       "(150, 20)"
      ]
     },
     "execution_count": 6,
     "metadata": {},
     "output_type": "execute_result"
    }
   ],
   "source": [
    "df.shape"
   ]
  },
  {
   "cell_type": "code",
   "execution_count": 7,
   "id": "bb12e0b2",
   "metadata": {},
   "outputs": [
    {
     "data": {
      "text/plain": [
       "3.2177777777599985"
      ]
     },
     "execution_count": 7,
     "metadata": {},
     "output_type": "execute_result"
    }
   ],
   "source": [
    "df['성공점수'].mean()"
   ]
  },
  {
   "cell_type": "code",
   "execution_count": 8,
   "id": "cccceda1",
   "metadata": {},
   "outputs": [
    {
     "data": {
      "text/plain": [
       "3.333333333"
      ]
     },
     "execution_count": 8,
     "metadata": {},
     "output_type": "execute_result"
    }
   ],
   "source": [
    "df['성공점수'].median()"
   ]
  },
  {
   "cell_type": "code",
   "execution_count": 9,
   "id": "d3c2f306",
   "metadata": {},
   "outputs": [
    {
     "data": {
      "text/plain": [
       "0    블루 계열\n",
       "Name: 색상그룹, dtype: object"
      ]
     },
     "execution_count": 9,
     "metadata": {},
     "output_type": "execute_result"
    }
   ],
   "source": [
    "df['색상그룹'].mode()"
   ]
  },
  {
   "cell_type": "code",
   "execution_count": 10,
   "id": "35fee33a",
   "metadata": {},
   "outputs": [
    {
     "data": {
      "text/plain": [
       "<AxesSubplot:xlabel='성공점수', ylabel='Count'>"
      ]
     },
     "execution_count": 10,
     "metadata": {},
     "output_type": "execute_result"
    },
    {
     "data": {
      "image/png": "[encoded data removed]",
      "text/plain": [
       "<Figure size 576x360 with 1 Axes>"
      ]
     },
     "metadata": {
      "needs_background": "light"
     },
     "output_type": "display_data"
    }
   ],
   "source": [
    "plt.figure(figsize=(8,5))\n",
    "sns.histplot(x = df['성공점수'], kde=True, bins=10)"
   ]
  },
  {
   "cell_type": "code",
   "execution_count": 12,
   "id": "31ccb6a3",
   "metadata": {},
   "outputs": [],
   "source": [
    "import pingouin as pg"
   ]
  },
  {
   "cell_type": "code",
   "execution_count": 13,
   "id": "357e37fd",
   "metadata": {},
   "outputs": [
    {
     "name": "stderr",
     "output_type": "stream",
     "text": [
      "/Users/younghyunkim/opt/anaconda3/lib/python3.9/site-packages/outdated/utils.py:14: OutdatedPackageWarning: The package outdated is out of date. Your version is 0.2.1, the latest is 0.2.2.\n",
      "Set the environment variable OUTDATED_IGNORE=1 to disable these warnings.\n",
      "  return warn(\n",
      "/Users/younghyunkim/opt/anaconda3/lib/python3.9/site-packages/outdated/utils.py:14: OutdatedPackageWarning: The package pingouin is out of date. Your version is 0.5.2, the latest is 0.5.3.\n",
      "Set the environment variable OUTDATED_IGNORE=1 to disable these warnings.\n",
      "  return warn(\n"
     ]
    },
    {
     "data": {
      "text/html": [
       "<div>\n",
       "<style scoped>\n",
       "    .dataframe tbody tr th:only-of-type {\n",
       "        vertical-align: middle;\n",
       "    }\n",
       "\n",
       "    .dataframe tbody tr th {\n",
       "        vertical-align: top;\n",
       "    }\n",
       "\n",
       "    .dataframe thead th {\n",
       "        text-align: right;\n",
       "    }\n",
       "</style>\n",
       "<table border=\"1\" class=\"dataframe\">\n",
       "  <thead>\n",
       "    <tr style=\"text-align: right;\">\n",
       "      <th></th>\n",
       "      <th>T</th>\n",
       "      <th>dof</th>\n",
       "      <th>alternative</th>\n",
       "      <th>p-val</th>\n",
       "      <th>CI95%</th>\n",
       "      <th>cohen-d</th>\n",
       "      <th>BF10</th>\n",
       "      <th>power</th>\n",
       "    </tr>\n",
       "  </thead>\n",
       "  <tbody>\n",
       "    <tr>\n",
       "      <th>T-test</th>\n",
       "      <td>41.591792</td>\n",
       "      <td>149</td>\n",
       "      <td>two-sided</td>\n",
       "      <td>6.749313e-84</td>\n",
       "      <td>[3.06, 3.37]</td>\n",
       "      <td>3.395956</td>\n",
       "      <td>1.379e+80</td>\n",
       "      <td>1.0</td>\n",
       "    </tr>\n",
       "  </tbody>\n",
       "</table>\n",
       "</div>"
      ],
      "text/plain": [
       "                T  dof alternative         p-val         CI95%   cohen-d  \\\n",
       "T-test  41.591792  149   two-sided  6.749313e-84  [3.06, 3.37]  3.395956   \n",
       "\n",
       "             BF10  power  \n",
       "T-test  1.379e+80    1.0  "
      ]
     },
     "execution_count": 13,
     "metadata": {},
     "output_type": "execute_result"
    }
   ],
   "source": [
    "# 신뢰 구간 구하기\n",
    "pg.ttest(df[\"성공점수\"], 0, confidence=0.95)"
   ]
  },
  {
   "cell_type": "code",
   "execution_count": 14,
   "id": "5ae15750",
   "metadata": {},
   "outputs": [
    {
     "data": {
      "text/plain": [
       "BootstrapResult(confidence_interval=ConfidenceInterval(low=3.066666666624271, high=3.3688888888583985), standard_error=0.07747047025039168)"
      ]
     },
     "execution_count": 14,
     "metadata": {},
     "output_type": "execute_result"
    }
   ],
   "source": [
    "import scipy \n",
    "scipy.stats.bootstrap([df['성공점수']], np.mean)"
   ]
  },
  {
   "cell_type": "code",
   "execution_count": 15,
   "id": "ad97a816",
   "metadata": {},
   "outputs": [
    {
     "data": {
      "text/plain": [
       "BootstrapResult(confidence_interval=ConfidenceInterval(low=3.0, high=3.333333333), standard_error=0.1326432688684403)"
      ]
     },
     "execution_count": 15,
     "metadata": {},
     "output_type": "execute_result"
    }
   ],
   "source": [
    "scipy.stats.bootstrap([df['성공점수']], np.median, confidence_level=0.99)"
   ]
  },
  {
   "attachments": {},
   "cell_type": "markdown",
   "id": "ae15f877",
   "metadata": {},
   "source": [
    "## 정규성 검정\n",
    "1. probplot (QQ-plot)\n",
    "   참고링크:https://bongury.tistory.com/377\n",
    "2. Kolmogorov-Smirnov Test\n",
    "- 귀무가설은 정규분포를 따른다. p-value가 0.05이상인 경우 귀무가설을 기각할 수 없다.\n",
    "   참고링크: https://blog.naver.com/PostView.naver?blogId=breezehome50&logNo=222339451767&redirect=Dlog&widgetTypeCall=true&directAccess=false\n",
    "   \n"
   ]
  },
  {
   "cell_type": "code",
   "execution_count": 19,
   "id": "b14b05d4",
   "metadata": {},
   "outputs": [
    {
     "data": {
      "image/png": "[encoded data removed]",
      "text/plain": [
       "<Figure size 432x288 with 1 Axes>"
      ]
     },
     "metadata": {
      "needs_background": "light"
     },
     "output_type": "display_data"
    }
   ],
   "source": [
    "from scipy.stats import probplot\n",
    "\n",
    "plt.figure()\n",
    "probplot(df[\"성공점수\"], plot=plt)\n",
    "plt.show()"
   ]
  },
  {
   "cell_type": "code",
   "execution_count": 20,
   "id": "64b1e175",
   "metadata": {},
   "outputs": [
    {
     "name": "stdout",
     "output_type": "stream",
     "text": [
      "Test-statistics : 0.10910930409593844, p-value:0.05205518728014469\n"
     ]
    }
   ],
   "source": [
    "from scipy import stats\n",
    "test_stat, p_val = stats.kstest(df[\"성공점수\"], 'norm', args=(df[\"성공점수\"].mean(), df[\"성공점수\"].var()**0.5))\n",
    "print(\"Test-statistics : {}, p-value:{}\".format(test_stat, p_val))"
   ]
  },
  {
   "cell_type": "code",
   "execution_count": 21,
   "id": "7caed244",
   "metadata": {},
   "outputs": [
    {
     "name": "stdout",
     "output_type": "stream",
     "text": [
      "Test-statistics : 0.9722031354904175, p-value:0.003894209396094084\n"
     ]
    }
   ],
   "source": [
    "from scipy import stats\n",
    "test_stat, p_val = stats.shapiro(df[\"성공점수\"])\n",
    "print(\"Test-statistics : {}, p-value:{}\".format(test_stat, p_val))"
   ]
  },
  {
   "attachments": {},
   "cell_type": "markdown",
   "id": "f6215281",
   "metadata": {},
   "source": [
    "가격과 성공점수 상관 분석"
   ]
  },
  {
   "cell_type": "code",
   "execution_count": 16,
   "id": "5cc36ad1",
   "metadata": {},
   "outputs": [
    {
     "data": {
      "text/plain": [
       "<AxesSubplot:xlabel='가격', ylabel='성공점수'>"
      ]
     },
     "execution_count": 16,
     "metadata": {},
     "output_type": "execute_result"
    },
    {
     "data": {
      "image/png": "[encoded data removed]",
      "text/plain": [
       "<Figure size 432x288 with 1 Axes>"
      ]
     },
     "metadata": {
      "needs_background": "light"
     },
     "output_type": "display_data"
    }
   ],
   "source": [
    "sns.scatterplot(x='가격', y='성공점수', data=df)"
   ]
  },
  {
   "cell_type": "code",
   "execution_count": 17,
   "id": "ed484db2",
   "metadata": {},
   "outputs": [
    {
     "data": {
      "text/html": [
       "<div>\n",
       "<style scoped>\n",
       "    .dataframe tbody tr th:only-of-type {\n",
       "        vertical-align: middle;\n",
       "    }\n",
       "\n",
       "    .dataframe tbody tr th {\n",
       "        vertical-align: top;\n",
       "    }\n",
       "\n",
       "    .dataframe thead th {\n",
       "        text-align: right;\n",
       "    }\n",
       "</style>\n",
       "<table border=\"1\" class=\"dataframe\">\n",
       "  <thead>\n",
       "    <tr style=\"text-align: right;\">\n",
       "      <th></th>\n",
       "      <th>n</th>\n",
       "      <th>r</th>\n",
       "      <th>CI95%</th>\n",
       "      <th>p-val</th>\n",
       "      <th>BF10</th>\n",
       "      <th>power</th>\n",
       "    </tr>\n",
       "  </thead>\n",
       "  <tbody>\n",
       "    <tr>\n",
       "      <th>pearson</th>\n",
       "      <td>150</td>\n",
       "      <td>-0.002021</td>\n",
       "      <td>[-0.16, 0.16]</td>\n",
       "      <td>0.980416</td>\n",
       "      <td>0.102</td>\n",
       "      <td>0.049963</td>\n",
       "    </tr>\n",
       "  </tbody>\n",
       "</table>\n",
       "</div>"
      ],
      "text/plain": [
       "           n         r          CI95%     p-val   BF10     power\n",
       "pearson  150 -0.002021  [-0.16, 0.16]  0.980416  0.102  0.049963"
      ]
     },
     "execution_count": 17,
     "metadata": {},
     "output_type": "execute_result"
    }
   ],
   "source": [
    "pg.corr(df['가격'], df['성공점수']) #표본상관계수 r값"
   ]
  },
  {
   "cell_type": "code",
   "execution_count": 18,
   "id": "24c44b22",
   "metadata": {},
   "outputs": [],
   "source": [
    "from statsmodels.formula.api import ols"
   ]
  },
  {
   "attachments": {},
   "cell_type": "markdown",
   "id": "b2009206",
   "metadata": {},
   "source": [
    "통계적 가설 검증 (카테고리별 비교)"
   ]
  },
  {
   "cell_type": "code",
   "execution_count": 19,
   "id": "4b5ac6ff",
   "metadata": {},
   "outputs": [],
   "source": [
    "#카테고리별로 확인해보기\n",
    "df_b = df[df['카테고리'] == '하의']\n",
    "df_t = df[df['카테고리'] == '상의']\n",
    "df_o = df[df['카테고리'] == '겉옷']\n",
    "df_one = df[df['카테고리'] == '원피스']"
   ]
  },
  {
   "cell_type": "code",
   "execution_count": 20,
   "id": "b76e48f5",
   "metadata": {},
   "outputs": [
    {
     "data": {
      "text/html": [
       "<div>\n",
       "<style scoped>\n",
       "    .dataframe tbody tr th:only-of-type {\n",
       "        vertical-align: middle;\n",
       "    }\n",
       "\n",
       "    .dataframe tbody tr th {\n",
       "        vertical-align: top;\n",
       "    }\n",
       "\n",
       "    .dataframe thead th {\n",
       "        text-align: right;\n",
       "    }\n",
       "</style>\n",
       "<table border=\"1\" class=\"dataframe\">\n",
       "  <thead>\n",
       "    <tr style=\"text-align: right;\">\n",
       "      <th></th>\n",
       "      <th>T</th>\n",
       "      <th>dof</th>\n",
       "      <th>alternative</th>\n",
       "      <th>p-val</th>\n",
       "      <th>CI95%</th>\n",
       "      <th>cohen-d</th>\n",
       "      <th>BF10</th>\n",
       "      <th>power</th>\n",
       "    </tr>\n",
       "  </thead>\n",
       "  <tbody>\n",
       "    <tr>\n",
       "      <th>T-test</th>\n",
       "      <td>0.986901</td>\n",
       "      <td>24.380236</td>\n",
       "      <td>two-sided</td>\n",
       "      <td>0.333385</td>\n",
       "      <td>[-0.44, 1.24]</td>\n",
       "      <td>0.374504</td>\n",
       "      <td>0.511</td>\n",
       "      <td>0.15685</td>\n",
       "    </tr>\n",
       "  </tbody>\n",
       "</table>\n",
       "</div>"
      ],
      "text/plain": [
       "               T        dof alternative     p-val          CI95%   cohen-d  \\\n",
       "T-test  0.986901  24.380236   two-sided  0.333385  [-0.44, 1.24]  0.374504   \n",
       "\n",
       "         BF10    power  \n",
       "T-test  0.511  0.15685  "
      ]
     },
     "execution_count": 20,
     "metadata": {},
     "output_type": "execute_result"
    }
   ],
   "source": [
    "# 하의는 입어보고 구매한 경우와 그렇지 않은 경우 두 집단은 같다\n",
    "try_yes = df_b['성공점수'][df_b[\"구매 전 착용 여부\"] == 1]\n",
    "try_no = df_b['성공점수'][df_b[\"구매 전 착용 여부\"] == 0]\n",
    "pg.ttest(try_yes, try_no, confidence=0.95)"
   ]
  },
  {
   "cell_type": "code",
   "execution_count": 21,
   "id": "403b7dce",
   "metadata": {},
   "outputs": [
    {
     "data": {
      "text/html": [
       "<div>\n",
       "<style scoped>\n",
       "    .dataframe tbody tr th:only-of-type {\n",
       "        vertical-align: middle;\n",
       "    }\n",
       "\n",
       "    .dataframe tbody tr th {\n",
       "        vertical-align: top;\n",
       "    }\n",
       "\n",
       "    .dataframe thead th {\n",
       "        text-align: right;\n",
       "    }\n",
       "</style>\n",
       "<table border=\"1\" class=\"dataframe\">\n",
       "  <thead>\n",
       "    <tr style=\"text-align: right;\">\n",
       "      <th></th>\n",
       "      <th>T</th>\n",
       "      <th>dof</th>\n",
       "      <th>alternative</th>\n",
       "      <th>p-val</th>\n",
       "      <th>CI95%</th>\n",
       "      <th>cohen-d</th>\n",
       "      <th>BF10</th>\n",
       "      <th>power</th>\n",
       "    </tr>\n",
       "  </thead>\n",
       "  <tbody>\n",
       "    <tr>\n",
       "      <th>T-test</th>\n",
       "      <td>2.445386</td>\n",
       "      <td>4.39668</td>\n",
       "      <td>two-sided</td>\n",
       "      <td>0.06511</td>\n",
       "      <td>[-0.11, 2.35]</td>\n",
       "      <td>1.278543</td>\n",
       "      <td>2.794</td>\n",
       "      <td>0.61222</td>\n",
       "    </tr>\n",
       "  </tbody>\n",
       "</table>\n",
       "</div>"
      ],
      "text/plain": [
       "               T      dof alternative    p-val          CI95%   cohen-d  \\\n",
       "T-test  2.445386  4.39668   two-sided  0.06511  [-0.11, 2.35]  1.278543   \n",
       "\n",
       "         BF10    power  \n",
       "T-test  2.794  0.61222  "
      ]
     },
     "execution_count": 21,
     "metadata": {},
     "output_type": "execute_result"
    }
   ],
   "source": [
    "# 겉옷은 입어보고 구매한 경우와 그렇지 않은 경우 두 집단의 성공점수 평균은 같다\n",
    "try_yes = df_o['성공점수'][df_o[\"구매 전 착용 여부\"] == 1]\n",
    "try_no = df_o['성공점수'][df_o[\"구매 전 착용 여부\"] == 0]\n",
    "pg.ttest(try_yes, try_no, confidence=0.95)"
   ]
  },
  {
   "cell_type": "code",
   "execution_count": 22,
   "id": "a4104d38",
   "metadata": {},
   "outputs": [
    {
     "data": {
      "text/html": [
       "<div>\n",
       "<style scoped>\n",
       "    .dataframe tbody tr th:only-of-type {\n",
       "        vertical-align: middle;\n",
       "    }\n",
       "\n",
       "    .dataframe tbody tr th {\n",
       "        vertical-align: top;\n",
       "    }\n",
       "\n",
       "    .dataframe thead th {\n",
       "        text-align: right;\n",
       "    }\n",
       "</style>\n",
       "<table border=\"1\" class=\"dataframe\">\n",
       "  <thead>\n",
       "    <tr style=\"text-align: right;\">\n",
       "      <th></th>\n",
       "      <th>T</th>\n",
       "      <th>dof</th>\n",
       "      <th>alternative</th>\n",
       "      <th>p-val</th>\n",
       "      <th>CI95%</th>\n",
       "      <th>cohen-d</th>\n",
       "      <th>BF10</th>\n",
       "      <th>power</th>\n",
       "    </tr>\n",
       "  </thead>\n",
       "  <tbody>\n",
       "    <tr>\n",
       "      <th>T-test</th>\n",
       "      <td>-1.82953</td>\n",
       "      <td>17.825148</td>\n",
       "      <td>two-sided</td>\n",
       "      <td>0.084098</td>\n",
       "      <td>[-1.12, 0.08]</td>\n",
       "      <td>0.617403</td>\n",
       "      <td>1.107</td>\n",
       "      <td>0.57093</td>\n",
       "    </tr>\n",
       "  </tbody>\n",
       "</table>\n",
       "</div>"
      ],
      "text/plain": [
       "              T        dof alternative     p-val          CI95%   cohen-d  \\\n",
       "T-test -1.82953  17.825148   two-sided  0.084098  [-1.12, 0.08]  0.617403   \n",
       "\n",
       "         BF10    power  \n",
       "T-test  1.107  0.57093  "
      ]
     },
     "execution_count": 22,
     "metadata": {},
     "output_type": "execute_result"
    }
   ],
   "source": [
    "# 상의는 유행하는 디자인의 경우와 그렇지 않은 경우에도 두 집단의 성공점수 평균은 같다\n",
    "trend_yes = df_t['성공점수'][df_t[\"유행 여부\"] == 1]\n",
    "trend_no = df_t['성공점수'][df_t[\"유행 여부\"] == 0]\n",
    "pg.ttest(trend_yes, trend_no, confidence=0.95)"
   ]
  },
  {
   "cell_type": "code",
   "execution_count": 23,
   "id": "8ebe1c21",
   "metadata": {},
   "outputs": [
    {
     "data": {
      "text/html": [
       "<div>\n",
       "<style scoped>\n",
       "    .dataframe tbody tr th:only-of-type {\n",
       "        vertical-align: middle;\n",
       "    }\n",
       "\n",
       "    .dataframe tbody tr th {\n",
       "        vertical-align: top;\n",
       "    }\n",
       "\n",
       "    .dataframe thead th {\n",
       "        text-align: right;\n",
       "    }\n",
       "</style>\n",
       "<table border=\"1\" class=\"dataframe\">\n",
       "  <thead>\n",
       "    <tr style=\"text-align: right;\">\n",
       "      <th></th>\n",
       "      <th>T</th>\n",
       "      <th>dof</th>\n",
       "      <th>alternative</th>\n",
       "      <th>p-val</th>\n",
       "      <th>CI95%</th>\n",
       "      <th>cohen-d</th>\n",
       "      <th>BF10</th>\n",
       "      <th>power</th>\n",
       "    </tr>\n",
       "  </thead>\n",
       "  <tbody>\n",
       "    <tr>\n",
       "      <th>T-test</th>\n",
       "      <td>-2.551741</td>\n",
       "      <td>1.631003</td>\n",
       "      <td>two-sided</td>\n",
       "      <td>0.152755</td>\n",
       "      <td>[-4.49, 1.6]</td>\n",
       "      <td>1.598676</td>\n",
       "      <td>2.557</td>\n",
       "      <td>0.486092</td>\n",
       "    </tr>\n",
       "  </tbody>\n",
       "</table>\n",
       "</div>"
      ],
      "text/plain": [
       "               T       dof alternative     p-val         CI95%   cohen-d  \\\n",
       "T-test -2.551741  1.631003   two-sided  0.152755  [-4.49, 1.6]  1.598676   \n",
       "\n",
       "         BF10     power  \n",
       "T-test  2.557  0.486092  "
      ]
     },
     "execution_count": 23,
     "metadata": {},
     "output_type": "execute_result"
    }
   ],
   "source": [
    "# 원피스는 유행하는 디자인의 경우와 그렇지 않은 경우에도 두 집단의 성공점수 평균은 같다\n",
    "trend_yes = df_one['성공점수'][df_one[\"유행 여부\"] == 1]\n",
    "trend_no = df_one['성공점수'][df_one[\"유행 여부\"] == 0]\n",
    "pg.ttest(trend_yes, trend_no, confidence=0.95)"
   ]
  },
  {
   "cell_type": "code",
   "execution_count": 24,
   "id": "9eb1c765",
   "metadata": {},
   "outputs": [
    {
     "data": {
      "text/html": [
       "<div>\n",
       "<style scoped>\n",
       "    .dataframe tbody tr th:only-of-type {\n",
       "        vertical-align: middle;\n",
       "    }\n",
       "\n",
       "    .dataframe tbody tr th {\n",
       "        vertical-align: top;\n",
       "    }\n",
       "\n",
       "    .dataframe thead th {\n",
       "        text-align: right;\n",
       "    }\n",
       "</style>\n",
       "<table border=\"1\" class=\"dataframe\">\n",
       "  <thead>\n",
       "    <tr style=\"text-align: right;\">\n",
       "      <th></th>\n",
       "      <th>T</th>\n",
       "      <th>dof</th>\n",
       "      <th>alternative</th>\n",
       "      <th>p-val</th>\n",
       "      <th>CI95%</th>\n",
       "      <th>cohen-d</th>\n",
       "      <th>BF10</th>\n",
       "      <th>power</th>\n",
       "    </tr>\n",
       "  </thead>\n",
       "  <tbody>\n",
       "    <tr>\n",
       "      <th>T-test</th>\n",
       "      <td>-1.063235</td>\n",
       "      <td>10.204251</td>\n",
       "      <td>two-sided</td>\n",
       "      <td>0.312189</td>\n",
       "      <td>[-1.18, 0.42]</td>\n",
       "      <td>0.397457</td>\n",
       "      <td>0.621</td>\n",
       "      <td>0.118737</td>\n",
       "    </tr>\n",
       "  </tbody>\n",
       "</table>\n",
       "</div>"
      ],
      "text/plain": [
       "               T        dof alternative     p-val          CI95%   cohen-d  \\\n",
       "T-test -1.063235  10.204251   two-sided  0.312189  [-1.18, 0.42]  0.397457   \n",
       "\n",
       "         BF10     power  \n",
       "T-test  0.621  0.118737  "
      ]
     },
     "execution_count": 24,
     "metadata": {},
     "output_type": "execute_result"
    }
   ],
   "source": [
    "# 겉옷은 브랜드가 있는 경우와 그렇지 않은 경우에도 두집단의 성공점수 평균은 같다\n",
    "brand_yes = df_o['성공점수'][df_o[\"브랜드 여부\"] == 1]\n",
    "brand_no = df_o['성공점수'][df_o[\"브랜드 여부\"] == 0]\n",
    "pg.ttest(brand_yes, brand_no, confidence=0.95)"
   ]
  },
  {
   "cell_type": "code",
   "execution_count": 25,
   "id": "50b2f619",
   "metadata": {},
   "outputs": [
    {
     "data": {
      "text/html": [
       "<div>\n",
       "<style scoped>\n",
       "    .dataframe tbody tr th:only-of-type {\n",
       "        vertical-align: middle;\n",
       "    }\n",
       "\n",
       "    .dataframe tbody tr th {\n",
       "        vertical-align: top;\n",
       "    }\n",
       "\n",
       "    .dataframe thead th {\n",
       "        text-align: right;\n",
       "    }\n",
       "</style>\n",
       "<table border=\"1\" class=\"dataframe\">\n",
       "  <thead>\n",
       "    <tr style=\"text-align: right;\">\n",
       "      <th></th>\n",
       "      <th>T</th>\n",
       "      <th>dof</th>\n",
       "      <th>alternative</th>\n",
       "      <th>p-val</th>\n",
       "      <th>CI95%</th>\n",
       "      <th>cohen-d</th>\n",
       "      <th>BF10</th>\n",
       "      <th>power</th>\n",
       "    </tr>\n",
       "  </thead>\n",
       "  <tbody>\n",
       "    <tr>\n",
       "      <th>T-test</th>\n",
       "      <td>1.156603</td>\n",
       "      <td>12</td>\n",
       "      <td>two-sided</td>\n",
       "      <td>0.269941</td>\n",
       "      <td>[-0.55, 1.79]</td>\n",
       "      <td>0.61823</td>\n",
       "      <td>0.685</td>\n",
       "      <td>0.186843</td>\n",
       "    </tr>\n",
       "  </tbody>\n",
       "</table>\n",
       "</div>"
      ],
      "text/plain": [
       "               T  dof alternative     p-val          CI95%  cohen-d   BF10  \\\n",
       "T-test  1.156603   12   two-sided  0.269941  [-0.55, 1.79]  0.61823  0.685   \n",
       "\n",
       "           power  \n",
       "T-test  0.186843  "
      ]
     },
     "execution_count": 25,
     "metadata": {},
     "output_type": "execute_result"
    }
   ],
   "source": [
    "# 원피스는 브랜드가 있는 경우와 그렇지 않은 경우에도 두집단의 성공점수 평균은 같다\n",
    "brand_yes = df_one['성공점수'][df_one[\"브랜드 여부\"] == 1]\n",
    "brand_no = df_one['성공점수'][df_one[\"브랜드 여부\"] == 0]\n",
    "pg.ttest(brand_yes, brand_no, confidence=0.95)"
   ]
  },
  {
   "cell_type": "code",
   "execution_count": 26,
   "id": "e072e731",
   "metadata": {},
   "outputs": [
    {
     "data": {
      "text/html": [
       "<div>\n",
       "<style scoped>\n",
       "    .dataframe tbody tr th:only-of-type {\n",
       "        vertical-align: middle;\n",
       "    }\n",
       "\n",
       "    .dataframe tbody tr th {\n",
       "        vertical-align: top;\n",
       "    }\n",
       "\n",
       "    .dataframe thead th {\n",
       "        text-align: right;\n",
       "    }\n",
       "</style>\n",
       "<table border=\"1\" class=\"dataframe\">\n",
       "  <thead>\n",
       "    <tr style=\"text-align: right;\">\n",
       "      <th></th>\n",
       "      <th>T</th>\n",
       "      <th>dof</th>\n",
       "      <th>alternative</th>\n",
       "      <th>p-val</th>\n",
       "      <th>CI95%</th>\n",
       "      <th>cohen-d</th>\n",
       "      <th>BF10</th>\n",
       "      <th>power</th>\n",
       "    </tr>\n",
       "  </thead>\n",
       "  <tbody>\n",
       "    <tr>\n",
       "      <th>T-test</th>\n",
       "      <td>-0.380194</td>\n",
       "      <td>52.782408</td>\n",
       "      <td>two-sided</td>\n",
       "      <td>0.705327</td>\n",
       "      <td>[-0.46, 0.31]</td>\n",
       "      <td>0.076696</td>\n",
       "      <td>0.218</td>\n",
       "      <td>0.068032</td>\n",
       "    </tr>\n",
       "  </tbody>\n",
       "</table>\n",
       "</div>"
      ],
      "text/plain": [
       "               T        dof alternative     p-val          CI95%   cohen-d  \\\n",
       "T-test -0.380194  52.782408   two-sided  0.705327  [-0.46, 0.31]  0.076696   \n",
       "\n",
       "         BF10     power  \n",
       "T-test  0.218  0.068032  "
      ]
     },
     "execution_count": 26,
     "metadata": {},
     "output_type": "execute_result"
    }
   ],
   "source": [
    "# 구매처에 따른 두 집단의  성공점수 평균은 같다 \n",
    "online = df['성공점수'][df[\"구매처\"] == 1]\n",
    "offline = df['성공점수'][df[\"구매처\"] == 0]\n",
    "pg.ttest(online, offline, confidence=0.95)"
   ]
  }
 ],
 "metadata": {
  "kernelspec": {
   "display_name": "Python 3 (ipykernel)",
   "language": "python",
   "name": "python3"
  },
  "language_info": {
   "codemirror_mode": {
    "name": "ipython",
    "version": 3
   },
   "file_extension": ".py",
   "mimetype": "text/x-python",
   "name": "python",
   "nbconvert_exporter": "python",
   "pygments_lexer": "ipython3",
   "version": "3.9.12"
  },
  "toc": {
   "base_numbering": 1,
   "nav_menu": {},
   "number_sections": true,
   "sideBar": true,
   "skip_h1_title": false,
   "title_cell": "Table of Contents",
   "title_sidebar": "Contents",
   "toc_cell": false,
   "toc_position": {},
   "toc_section_display": true,
   "toc_window_display": false
  }
 },
 "nbformat": 4,
 "nbformat_minor": 5
}
