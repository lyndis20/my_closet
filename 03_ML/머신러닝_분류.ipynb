{
 "cells": [
  {
   "cell_type": "code",
   "execution_count": 2,
   "id": "6c3fc97c",
   "metadata": {},
   "outputs": [],
   "source": [
    "import pandas as pd\n",
    "import numpy as np\n",
    "import seaborn as sns\n",
    "import matplotlib.pyplot as plt\n",
    "import koreanize_matplotlib"
   ]
  },
  {
   "cell_type": "code",
   "execution_count": null,
   "id": "b3f07b7d",
   "metadata": {},
   "outputs": [],
   "source": [
    "\"\"\"\n",
    "1. 데이터 불러오기(v3)\n",
    "2. 피처 선택하기\n",
    "3. train, test 나누기\n",
    "4. 원핫 인코딩\n",
    "6. 베이스라인 모델 만들기 (트리 모델), 점수 설정\n",
    "7. boost 모델 적용해보기\n",
    "8. 파라미터 조절\n",
    "9. 예측기 완성\n",
    "\"\"\""
   ]
  },
  {
   "cell_type": "code",
   "execution_count": 3,
   "id": "d4d9863e",
   "metadata": {},
   "outputs": [],
   "source": [
    "path = \"/Users/younghyunkim/Desktop/dataproject/my_closet/raw_data\""
   ]
  },
  {
   "cell_type": "code",
   "execution_count": 4,
   "id": "c3384a4c",
   "metadata": {},
   "outputs": [
    {
     "data": {
      "text/html": [
       "<div>\n",
       "<style scoped>\n",
       "    .dataframe tbody tr th:only-of-type {\n",
       "        vertical-align: middle;\n",
       "    }\n",
       "\n",
       "    .dataframe tbody tr th {\n",
       "        vertical-align: top;\n",
       "    }\n",
       "\n",
       "    .dataframe thead th {\n",
       "        text-align: right;\n",
       "    }\n",
       "</style>\n",
       "<table border=\"1\" class=\"dataframe\">\n",
       "  <thead>\n",
       "    <tr style=\"text-align: right;\">\n",
       "      <th></th>\n",
       "      <th>제품명</th>\n",
       "      <th>계절</th>\n",
       "      <th>구매 년도</th>\n",
       "      <th>카테고리</th>\n",
       "      <th>구매처</th>\n",
       "      <th>브랜드 여부</th>\n",
       "      <th>구매 전 착용 여부</th>\n",
       "      <th>색상</th>\n",
       "      <th>가격</th>\n",
       "      <th>유행 여부</th>\n",
       "      <th>구매 목적</th>\n",
       "      <th>최근 1년 내 착용 여부</th>\n",
       "      <th>착용 빈도</th>\n",
       "      <th>만족도</th>\n",
       "      <th>주변 평가</th>\n",
       "      <th>성공점수</th>\n",
       "      <th>색상그룹</th>\n",
       "      <th>가격_bin</th>\n",
       "      <th>가격_q_bin</th>\n",
       "      <th>성공여부</th>\n",
       "    </tr>\n",
       "  </thead>\n",
       "  <tbody>\n",
       "    <tr>\n",
       "      <th>0</th>\n",
       "      <td>배색 가디건 네이비</td>\n",
       "      <td>봄가을</td>\n",
       "      <td>2021</td>\n",
       "      <td>상의</td>\n",
       "      <td>1</td>\n",
       "      <td>0</td>\n",
       "      <td>1</td>\n",
       "      <td>네이비</td>\n",
       "      <td>3</td>\n",
       "      <td>0</td>\n",
       "      <td>일상</td>\n",
       "      <td>1</td>\n",
       "      <td>5</td>\n",
       "      <td>5</td>\n",
       "      <td>3</td>\n",
       "      <td>4.333333</td>\n",
       "      <td>블루 계열</td>\n",
       "      <td>1-4</td>\n",
       "      <td>매우 낮은 가격</td>\n",
       "      <td>1</td>\n",
       "    </tr>\n",
       "    <tr>\n",
       "      <th>1</th>\n",
       "      <td>배색 가디건 하늘</td>\n",
       "      <td>봄가을</td>\n",
       "      <td>2021</td>\n",
       "      <td>상의</td>\n",
       "      <td>0</td>\n",
       "      <td>0</td>\n",
       "      <td>1</td>\n",
       "      <td>스카이블루</td>\n",
       "      <td>3</td>\n",
       "      <td>0</td>\n",
       "      <td>일상</td>\n",
       "      <td>1</td>\n",
       "      <td>3</td>\n",
       "      <td>4</td>\n",
       "      <td>4</td>\n",
       "      <td>3.666667</td>\n",
       "      <td>블루 계열</td>\n",
       "      <td>1-4</td>\n",
       "      <td>매우 낮은 가격</td>\n",
       "      <td>1</td>\n",
       "    </tr>\n",
       "    <tr>\n",
       "      <th>2</th>\n",
       "      <td>줄무늬 티셔츠</td>\n",
       "      <td>봄가을</td>\n",
       "      <td>2014</td>\n",
       "      <td>상의</td>\n",
       "      <td>0</td>\n",
       "      <td>0</td>\n",
       "      <td>0</td>\n",
       "      <td>네이비</td>\n",
       "      <td>1</td>\n",
       "      <td>0</td>\n",
       "      <td>일상</td>\n",
       "      <td>1</td>\n",
       "      <td>4</td>\n",
       "      <td>5</td>\n",
       "      <td>4</td>\n",
       "      <td>4.333333</td>\n",
       "      <td>블루 계열</td>\n",
       "      <td>1-4</td>\n",
       "      <td>매우 낮은 가격</td>\n",
       "      <td>1</td>\n",
       "    </tr>\n",
       "    <tr>\n",
       "      <th>3</th>\n",
       "      <td>파란색 크롭 셔츠</td>\n",
       "      <td>봄가을</td>\n",
       "      <td>2023</td>\n",
       "      <td>상의</td>\n",
       "      <td>1</td>\n",
       "      <td>1</td>\n",
       "      <td>0</td>\n",
       "      <td>스카이블루</td>\n",
       "      <td>4</td>\n",
       "      <td>1</td>\n",
       "      <td>일상</td>\n",
       "      <td>1</td>\n",
       "      <td>4</td>\n",
       "      <td>4</td>\n",
       "      <td>4</td>\n",
       "      <td>4.000000</td>\n",
       "      <td>블루 계열</td>\n",
       "      <td>1-4</td>\n",
       "      <td>낮은 가격</td>\n",
       "      <td>1</td>\n",
       "    </tr>\n",
       "    <tr>\n",
       "      <th>4</th>\n",
       "      <td>\b숏 트렌치 코트</td>\n",
       "      <td>봄가을</td>\n",
       "      <td>2023</td>\n",
       "      <td>겉옷</td>\n",
       "      <td>0</td>\n",
       "      <td>1</td>\n",
       "      <td>1</td>\n",
       "      <td>베이지</td>\n",
       "      <td>16</td>\n",
       "      <td>1</td>\n",
       "      <td>일상</td>\n",
       "      <td>1</td>\n",
       "      <td>3</td>\n",
       "      <td>4</td>\n",
       "      <td>3</td>\n",
       "      <td>3.333333</td>\n",
       "      <td>브라운 계열</td>\n",
       "      <td>12-16</td>\n",
       "      <td>높은 가격</td>\n",
       "      <td>1</td>\n",
       "    </tr>\n",
       "  </tbody>\n",
       "</table>\n",
       "</div>"
      ],
      "text/plain": [
       "          제품명   계절  구매 년도 카테고리  구매처  브랜드 여부  구매 전 착용 여부     색상  가격  유행 여부  \\\n",
       "0  배색 가디건 네이비  봄가을   2021   상의    1       0           1    네이비   3      0   \n",
       "1   배색 가디건 하늘  봄가을   2021   상의    0       0           1  스카이블루   3      0   \n",
       "2     줄무늬 티셔츠  봄가을   2014   상의    0       0           0    네이비   1      0   \n",
       "3   파란색 크롭 셔츠  봄가을   2023   상의    1       1           0  스카이블루   4      1   \n",
       "4   \b숏 트렌치 코트  봄가을   2023   겉옷    0       1           1    베이지  16      1   \n",
       "\n",
       "  구매 목적  최근 1년 내 착용 여부  착용 빈도  만족도  주변 평가      성공점수    색상그룹 가격_bin  가격_q_bin  \\\n",
       "0    일상              1      5    5      3  4.333333   블루 계열    1-4  매우 낮은 가격   \n",
       "1    일상              1      3    4      4  3.666667   블루 계열    1-4  매우 낮은 가격   \n",
       "2    일상              1      4    5      4  4.333333   블루 계열    1-4  매우 낮은 가격   \n",
       "3    일상              1      4    4      4  4.000000   블루 계열    1-4     낮은 가격   \n",
       "4    일상              1      3    4      3  3.333333  브라운 계열  12-16     높은 가격   \n",
       "\n",
       "   성공여부  \n",
       "0     1  \n",
       "1     1  \n",
       "2     1  \n",
       "3     1  \n",
       "4     1  "
      ]
     },
     "execution_count": 4,
     "metadata": {},
     "output_type": "execute_result"
    }
   ],
   "source": [
    "df = pd.read_csv(f\"{path}/closet_data_v3.csv\")\n",
    "df.head()"
   ]
  },
  {
   "cell_type": "code",
   "execution_count": 5,
   "id": "842b86cb",
   "metadata": {},
   "outputs": [
    {
     "data": {
      "text/plain": [
       "(150, 20)"
      ]
     },
     "execution_count": 5,
     "metadata": {},
     "output_type": "execute_result"
    }
   ],
   "source": [
    "df.shape"
   ]
  },
  {
   "cell_type": "code",
   "execution_count": 11,
   "id": "6f118cc2",
   "metadata": {},
   "outputs": [
    {
     "data": {
      "text/plain": [
       "1    0.533333\n",
       "0    0.466667\n",
       "Name: 성공여부, dtype: float64"
      ]
     },
     "execution_count": 11,
     "metadata": {},
     "output_type": "execute_result"
    }
   ],
   "source": [
    "df['성공여부'].value_counts() / df.shape[0]\n",
    "# 현재 성공 여부를 모두 1로 예측한다면 정확성은 0.53"
   ]
  },
  {
   "cell_type": "code",
   "execution_count": 16,
   "id": "12624298",
   "metadata": {},
   "outputs": [
    {
     "data": {
      "text/plain": [
       "Index(['제품명', '계절', '구매 년도', '카테고리', '구매처', '브랜드 여부', '구매 전 착용 여부', '색상', '가격',\n",
       "       '유행 여부', '구매 목적', '최근 1년 내 착용 여부', '착용 빈도', '만족도', '주변 평가', '성공점수',\n",
       "       '색상그룹', '가격_bin', '가격_q_bin', '성공여부'],\n",
       "      dtype='object')"
      ]
     },
     "execution_count": 16,
     "metadata": {},
     "output_type": "execute_result"
    }
   ],
   "source": [
    "df.columns"
   ]
  },
  {
   "cell_type": "code",
   "execution_count": 22,
   "id": "51b42633",
   "metadata": {},
   "outputs": [],
   "source": [
    "feature_li = ['카테고리', '구매처', '브랜드 여부', '구매 전 착용 여부', '가격',\n",
    "              '유행 여부', '구매 목적', '최근 1년 내 착용 여부', '색상그룹', '성공여부']"
   ]
  },
  {
   "cell_type": "code",
   "execution_count": 24,
   "id": "30d33e67",
   "metadata": {},
   "outputs": [
    {
     "data": {
      "text/plain": [
       "(150, 10)"
      ]
     },
     "execution_count": 24,
     "metadata": {},
     "output_type": "execute_result"
    }
   ],
   "source": [
    "df = df[feature_li]\n",
    "df.shape"
   ]
  },
  {
   "cell_type": "code",
   "execution_count": 27,
   "id": "f09f9923",
   "metadata": {},
   "outputs": [
    {
     "data": {
      "image/png": "[encoded data removed]",
      "text/plain": [
       "<Figure size 864x720 with 9 Axes>"
      ]
     },
     "metadata": {
      "needs_background": "light"
     },
     "output_type": "display_data"
    }
   ],
   "source": [
    "df.hist(bins=10, figsize=(12,10));"
   ]
  },
  {
   "cell_type": "code",
   "execution_count": 31,
   "id": "1fd10aad",
   "metadata": {},
   "outputs": [
    {
     "data": {
      "text/plain": [
       "((120, 10), (30, 10))"
      ]
     },
     "execution_count": 31,
     "metadata": {},
     "output_type": "execute_result"
    }
   ],
   "source": [
    "# train, test split\n",
    "from sklearn.model_selection import train_test_split\n",
    "\n",
    "train, test = train_test_split(df, test_size = 0.2, random_state=42)\n",
    "\n",
    "train.shape, test.shape,"
   ]
  },
  {
   "cell_type": "code",
   "execution_count": 32,
   "id": "b85c7431",
   "metadata": {},
   "outputs": [
    {
     "data": {
      "text/html": [
       "<div>\n",
       "<style scoped>\n",
       "    .dataframe tbody tr th:only-of-type {\n",
       "        vertical-align: middle;\n",
       "    }\n",
       "\n",
       "    .dataframe tbody tr th {\n",
       "        vertical-align: top;\n",
       "    }\n",
       "\n",
       "    .dataframe thead th {\n",
       "        text-align: right;\n",
       "    }\n",
       "</style>\n",
       "<table border=\"1\" class=\"dataframe\">\n",
       "  <thead>\n",
       "    <tr style=\"text-align: right;\">\n",
       "      <th></th>\n",
       "      <th>카테고리</th>\n",
       "      <th>구매처</th>\n",
       "      <th>브랜드 여부</th>\n",
       "      <th>구매 전 착용 여부</th>\n",
       "      <th>가격</th>\n",
       "      <th>유행 여부</th>\n",
       "      <th>구매 목적</th>\n",
       "      <th>최근 1년 내 착용 여부</th>\n",
       "      <th>색상그룹</th>\n",
       "    </tr>\n",
       "  </thead>\n",
       "  <tbody>\n",
       "    <tr>\n",
       "      <th>22</th>\n",
       "      <td>원피스</td>\n",
       "      <td>0</td>\n",
       "      <td>0</td>\n",
       "      <td>1</td>\n",
       "      <td>4</td>\n",
       "      <td>0</td>\n",
       "      <td>행사</td>\n",
       "      <td>1</td>\n",
       "      <td>블루 계열</td>\n",
       "    </tr>\n",
       "    <tr>\n",
       "      <th>15</th>\n",
       "      <td>하의</td>\n",
       "      <td>0</td>\n",
       "      <td>0</td>\n",
       "      <td>1</td>\n",
       "      <td>3</td>\n",
       "      <td>0</td>\n",
       "      <td>출근</td>\n",
       "      <td>1</td>\n",
       "      <td>블랙 계열</td>\n",
       "    </tr>\n",
       "  </tbody>\n",
       "</table>\n",
       "</div>"
      ],
      "text/plain": [
       "   카테고리  구매처  브랜드 여부  구매 전 착용 여부  가격  유행 여부 구매 목적  최근 1년 내 착용 여부   색상그룹\n",
       "22  원피스    0       0           1   4      0    행사              1  블루 계열\n",
       "15   하의    0       0           1   3      0    출근              1  블랙 계열"
      ]
     },
     "execution_count": 32,
     "metadata": {},
     "output_type": "execute_result"
    }
   ],
   "source": [
    "label_name = \"성공여부\"\n",
    "feature_names = ['카테고리', '구매처', '브랜드 여부', '구매 전 착용 여부', '가격',\n",
    "              '유행 여부', '구매 목적', '최근 1년 내 착용 여부', '색상그룹']\n",
    "train[feature_names].head(2)"
   ]
  },
  {
   "cell_type": "code",
   "execution_count": 34,
   "id": "fff2006c",
   "metadata": {},
   "outputs": [
    {
     "name": "stdout",
     "output_type": "stream",
     "text": [
      "(120, 20)\n"
     ]
    },
    {
     "data": {
      "text/html": [
       "<div>\n",
       "<style scoped>\n",
       "    .dataframe tbody tr th:only-of-type {\n",
       "        vertical-align: middle;\n",
       "    }\n",
       "\n",
       "    .dataframe tbody tr th {\n",
       "        vertical-align: top;\n",
       "    }\n",
       "\n",
       "    .dataframe thead th {\n",
       "        text-align: right;\n",
       "    }\n",
       "</style>\n",
       "<table border=\"1\" class=\"dataframe\">\n",
       "  <thead>\n",
       "    <tr style=\"text-align: right;\">\n",
       "      <th></th>\n",
       "      <th>구매처</th>\n",
       "      <th>브랜드 여부</th>\n",
       "      <th>구매 전 착용 여부</th>\n",
       "      <th>가격</th>\n",
       "      <th>유행 여부</th>\n",
       "      <th>최근 1년 내 착용 여부</th>\n",
       "      <th>카테고리_겉옷</th>\n",
       "      <th>카테고리_상의</th>\n",
       "      <th>카테고리_원피스</th>\n",
       "      <th>카테고리_하의</th>\n",
       "      <th>구매 목적_일상</th>\n",
       "      <th>구매 목적_출근</th>\n",
       "      <th>구매 목적_행사</th>\n",
       "      <th>색상그룹_그레이 계열</th>\n",
       "      <th>색상그룹_그린 계열</th>\n",
       "      <th>색상그룹_브라운 계열</th>\n",
       "      <th>색상그룹_블랙 계열</th>\n",
       "      <th>색상그룹_블루 계열</th>\n",
       "      <th>색상그룹_핑크 계열</th>\n",
       "      <th>색상그룹_화이트 계열</th>\n",
       "    </tr>\n",
       "  </thead>\n",
       "  <tbody>\n",
       "    <tr>\n",
       "      <th>22</th>\n",
       "      <td>0</td>\n",
       "      <td>0</td>\n",
       "      <td>1</td>\n",
       "      <td>4</td>\n",
       "      <td>0</td>\n",
       "      <td>1</td>\n",
       "      <td>0</td>\n",
       "      <td>0</td>\n",
       "      <td>1</td>\n",
       "      <td>0</td>\n",
       "      <td>0</td>\n",
       "      <td>0</td>\n",
       "      <td>1</td>\n",
       "      <td>0</td>\n",
       "      <td>0</td>\n",
       "      <td>0</td>\n",
       "      <td>0</td>\n",
       "      <td>1</td>\n",
       "      <td>0</td>\n",
       "      <td>0</td>\n",
       "    </tr>\n",
       "    <tr>\n",
       "      <th>15</th>\n",
       "      <td>0</td>\n",
       "      <td>0</td>\n",
       "      <td>1</td>\n",
       "      <td>3</td>\n",
       "      <td>0</td>\n",
       "      <td>1</td>\n",
       "      <td>0</td>\n",
       "      <td>0</td>\n",
       "      <td>0</td>\n",
       "      <td>1</td>\n",
       "      <td>0</td>\n",
       "      <td>1</td>\n",
       "      <td>0</td>\n",
       "      <td>0</td>\n",
       "      <td>0</td>\n",
       "      <td>0</td>\n",
       "      <td>1</td>\n",
       "      <td>0</td>\n",
       "      <td>0</td>\n",
       "      <td>0</td>\n",
       "    </tr>\n",
       "  </tbody>\n",
       "</table>\n",
       "</div>"
      ],
      "text/plain": [
       "    구매처  브랜드 여부  구매 전 착용 여부  가격  유행 여부  최근 1년 내 착용 여부  카테고리_겉옷  카테고리_상의  \\\n",
       "22    0       0           1   4      0              1        0        0   \n",
       "15    0       0           1   3      0              1        0        0   \n",
       "\n",
       "    카테고리_원피스  카테고리_하의  구매 목적_일상  구매 목적_출근  구매 목적_행사  색상그룹_그레이 계열  색상그룹_그린 계열  \\\n",
       "22         1        0         0         0         1            0           0   \n",
       "15         0        1         0         1         0            0           0   \n",
       "\n",
       "    색상그룹_브라운 계열  색상그룹_블랙 계열  색상그룹_블루 계열  색상그룹_핑크 계열  색상그룹_화이트 계열  \n",
       "22            0           0           1           0            0  \n",
       "15            0           1           0           0            0  "
      ]
     },
     "metadata": {},
     "output_type": "display_data"
    },
    {
     "name": "stdout",
     "output_type": "stream",
     "text": [
      "(30, 20)\n"
     ]
    },
    {
     "data": {
      "text/html": [
       "<div>\n",
       "<style scoped>\n",
       "    .dataframe tbody tr th:only-of-type {\n",
       "        vertical-align: middle;\n",
       "    }\n",
       "\n",
       "    .dataframe tbody tr th {\n",
       "        vertical-align: top;\n",
       "    }\n",
       "\n",
       "    .dataframe thead th {\n",
       "        text-align: right;\n",
       "    }\n",
       "</style>\n",
       "<table border=\"1\" class=\"dataframe\">\n",
       "  <thead>\n",
       "    <tr style=\"text-align: right;\">\n",
       "      <th></th>\n",
       "      <th>구매처</th>\n",
       "      <th>브랜드 여부</th>\n",
       "      <th>구매 전 착용 여부</th>\n",
       "      <th>가격</th>\n",
       "      <th>유행 여부</th>\n",
       "      <th>최근 1년 내 착용 여부</th>\n",
       "      <th>카테고리_겉옷</th>\n",
       "      <th>카테고리_상의</th>\n",
       "      <th>카테고리_원피스</th>\n",
       "      <th>카테고리_하의</th>\n",
       "      <th>구매 목적_일상</th>\n",
       "      <th>구매 목적_출근</th>\n",
       "      <th>구매 목적_행사</th>\n",
       "      <th>색상그룹_그레이 계열</th>\n",
       "      <th>색상그룹_그린 계열</th>\n",
       "      <th>색상그룹_브라운 계열</th>\n",
       "      <th>색상그룹_블랙 계열</th>\n",
       "      <th>색상그룹_블루 계열</th>\n",
       "      <th>색상그룹_핑크 계열</th>\n",
       "      <th>색상그룹_화이트 계열</th>\n",
       "    </tr>\n",
       "  </thead>\n",
       "  <tbody>\n",
       "    <tr>\n",
       "      <th>73</th>\n",
       "      <td>1</td>\n",
       "      <td>0</td>\n",
       "      <td>0</td>\n",
       "      <td>3</td>\n",
       "      <td>1</td>\n",
       "      <td>0</td>\n",
       "      <td>0</td>\n",
       "      <td>1</td>\n",
       "      <td>0</td>\n",
       "      <td>0</td>\n",
       "      <td>0</td>\n",
       "      <td>0</td>\n",
       "      <td>1</td>\n",
       "      <td>0</td>\n",
       "      <td>0</td>\n",
       "      <td>0</td>\n",
       "      <td>0</td>\n",
       "      <td>0</td>\n",
       "      <td>1</td>\n",
       "      <td>0</td>\n",
       "    </tr>\n",
       "    <tr>\n",
       "      <th>18</th>\n",
       "      <td>0</td>\n",
       "      <td>1</td>\n",
       "      <td>1</td>\n",
       "      <td>5</td>\n",
       "      <td>0</td>\n",
       "      <td>1</td>\n",
       "      <td>0</td>\n",
       "      <td>1</td>\n",
       "      <td>0</td>\n",
       "      <td>0</td>\n",
       "      <td>1</td>\n",
       "      <td>0</td>\n",
       "      <td>0</td>\n",
       "      <td>1</td>\n",
       "      <td>0</td>\n",
       "      <td>0</td>\n",
       "      <td>0</td>\n",
       "      <td>0</td>\n",
       "      <td>0</td>\n",
       "      <td>0</td>\n",
       "    </tr>\n",
       "  </tbody>\n",
       "</table>\n",
       "</div>"
      ],
      "text/plain": [
       "    구매처  브랜드 여부  구매 전 착용 여부  가격  유행 여부  최근 1년 내 착용 여부  카테고리_겉옷  카테고리_상의  \\\n",
       "73    1       0           0   3      1              0        0        1   \n",
       "18    0       1           1   5      0              1        0        1   \n",
       "\n",
       "    카테고리_원피스  카테고리_하의  구매 목적_일상  구매 목적_출근  구매 목적_행사  색상그룹_그레이 계열  색상그룹_그린 계열  \\\n",
       "73         0        0         0         0         1            0           0   \n",
       "18         0        0         1         0         0            1           0   \n",
       "\n",
       "    색상그룹_브라운 계열  색상그룹_블랙 계열  색상그룹_블루 계열  색상그룹_핑크 계열  색상그룹_화이트 계열  \n",
       "73            0           0           0           1            0  \n",
       "18            0           0           0           0            0  "
      ]
     },
     "metadata": {},
     "output_type": "display_data"
    },
    {
     "name": "stdout",
     "output_type": "stream",
     "text": [
      "(120,)\n",
      "(30,)\n"
     ]
    },
    {
     "data": {
      "text/plain": [
       "73    0\n",
       "18    1\n",
       "Name: 성공여부, dtype: int64"
      ]
     },
     "execution_count": 34,
     "metadata": {},
     "output_type": "execute_result"
    }
   ],
   "source": [
    "X_train = pd.get_dummies(train[feature_names])\n",
    "print(X_train.shape)\n",
    "display(X_train.head(2))\n",
    "\n",
    "X_test = pd.get_dummies(test[feature_names])\n",
    "print(X_test.shape)\n",
    "display(X_test.head(2))\n",
    "\n",
    "y_train= train[label_name]\n",
    "print(y_train.shape)\n",
    "y_train.head(2)\n",
    "\n",
    "y_test = test[label_name]\n",
    "print(y_test.shape)\n",
    "y_test.head(2)"
   ]
  },
  {
   "cell_type": "code",
   "execution_count": 35,
   "id": "4038a714",
   "metadata": {},
   "outputs": [
    {
     "data": {
      "text/plain": [
       "True"
      ]
     },
     "execution_count": 35,
     "metadata": {},
     "output_type": "execute_result"
    }
   ],
   "source": [
    "set(X_test.columns) == set(X_train.columns)"
   ]
  },
  {
   "cell_type": "markdown",
   "id": "a9f6242e",
   "metadata": {},
   "source": [
    "결정 트리 모델"
   ]
  },
  {
   "cell_type": "code",
   "execution_count": 118,
   "id": "43c7959e",
   "metadata": {},
   "outputs": [],
   "source": [
    "from sklearn.tree import DecisionTreeClassifier\n",
    "from sklearn.ensemble import RandomForestClassifier\n",
    "from sklearn.ensemble import GradientBoostingClassifier\n",
    "\n",
    "from sklearn.metrics import accuracy_score"
   ]
  },
  {
   "cell_type": "code",
   "execution_count": 117,
   "id": "770db782",
   "metadata": {},
   "outputs": [
    {
     "data": {
      "text/plain": [
       "0.7333333333333333"
      ]
     },
     "execution_count": 117,
     "metadata": {},
     "output_type": "execute_result"
    }
   ],
   "source": [
    "model_tree = DecisionTreeClassifier(random_state=42, max_depth=7, min_samples_leaf=7)\n",
    "model_tree.fit(X_train, y_train)\n",
    "y_predict = model_tree.predict(X_test)\n",
    "accuracy_score(y_test, y_predict)"
   ]
  },
  {
   "cell_type": "markdown",
   "id": "26c7d176",
   "metadata": {},
   "source": [
    "랜덤포레스트 모델"
   ]
  },
  {
   "cell_type": "code",
   "execution_count": 119,
   "id": "dd138af6",
   "metadata": {},
   "outputs": [
    {
     "data": {
      "text/plain": [
       "0.8333333333333334"
      ]
     },
     "execution_count": 119,
     "metadata": {},
     "output_type": "execute_result"
    }
   ],
   "source": [
    "model_rf = RandomForestClassifier(random_state = 42, min_samples_leaf=4, max_depth=8, n_estimators=100)\n",
    "model_rf.fit(X_train, y_train)\n",
    "y_predict = model_rf.predict(X_test)\n",
    "accuracy_score(y_test, y_predict)"
   ]
  },
  {
   "cell_type": "markdown",
   "id": "70bd9481",
   "metadata": {},
   "source": [
    "GBT 모델"
   ]
  },
  {
   "cell_type": "code",
   "execution_count": 132,
   "id": "c0ffd82b",
   "metadata": {},
   "outputs": [
    {
     "data": {
      "text/plain": [
       "0.6333333333333333"
      ]
     },
     "execution_count": 132,
     "metadata": {},
     "output_type": "execute_result"
    }
   ],
   "source": [
    "from sklearn.ensemble import GradientBoostingClassifier\n",
    "model_gbt = GradientBoostingClassifier(random_state = 42, n_estimators=200, max_depth=9, learning_rate=0.95)\n",
    "\n",
    "model_gbt.fit(X_train, y_train)\n",
    "y_predict = model_gbt.predict(X_test)\n",
    "accuracy_score(y_test, y_predict)"
   ]
  },
  {
   "cell_type": "markdown",
   "id": "fddf89d0",
   "metadata": {},
   "source": [
    "CatBoost"
   ]
  },
  {
   "cell_type": "code",
   "execution_count": 136,
   "id": "2ddb8f65",
   "metadata": {},
   "outputs": [
    {
     "data": {
      "text/plain": [
       "0.6333333333333333"
      ]
     },
     "execution_count": 136,
     "metadata": {},
     "output_type": "execute_result"
    }
   ],
   "source": [
    "from catboost import CatBoostClassifier\n",
    "cb = CatBoostClassifier(random_state = 42, silent=True)\n",
    "cb.fit(X_train, y_train)\n",
    "y_predict = model_gbt.predict(X_test)\n",
    "accuracy_score(y_test, y_predict)"
   ]
  },
  {
   "cell_type": "markdown",
   "id": "3f395c4d",
   "metadata": {},
   "source": [
    "랜덤포레스트 파라미터 조절 (예정)"
   ]
  },
  {
   "cell_type": "code",
   "execution_count": 141,
   "id": "7b542569",
   "metadata": {},
   "outputs": [
    {
     "data": {
      "text/plain": [
       "0.8333333333333334"
      ]
     },
     "execution_count": 141,
     "metadata": {},
     "output_type": "execute_result"
    }
   ],
   "source": [
    "model_rf2 = RandomForestClassifier(random_state = 42, min_samples_leaf=5, max_depth=9, n_estimators=100)\n",
    "model_rf2.fit(X_train, y_train)\n",
    "y_predict = model_rf.predict(X_test)\n",
    "accuracy_score(y_test, y_predict)"
   ]
  },
  {
   "cell_type": "code",
   "execution_count": 142,
   "id": "be95c00f",
   "metadata": {},
   "outputs": [
    {
     "data": {
      "text/plain": [
       "최근 1년 내 착용 여부    0.391344\n",
       "구매 목적_일상         0.119697\n",
       "가격               0.075692\n",
       "구매 목적_행사         0.052400\n",
       "카테고리_상의          0.052297\n",
       "색상그룹_블랙 계열       0.042206\n",
       "구매 목적_출근         0.041373\n",
       "브랜드 여부           0.030859\n",
       "구매 전 착용 여부       0.030811\n",
       "색상그룹_블루 계열       0.027345\n",
       "카테고리_겉옷          0.025236\n",
       "색상그룹_화이트 계열      0.024114\n",
       "구매처              0.019537\n",
       "카테고리_원피스         0.018264\n",
       "유행 여부            0.016234\n",
       "색상그룹_브라운 계열      0.016086\n",
       "카테고리_하의          0.007858\n",
       "색상그룹_그레이 계열      0.004213\n",
       "색상그룹_핑크 계열       0.002489\n",
       "색상그룹_그린 계열       0.001942\n",
       "dtype: float64"
      ]
     },
     "execution_count": 142,
     "metadata": {},
     "output_type": "execute_result"
    }
   ],
   "source": [
    "fi =pd.Series(model_rf2.feature_importances_)\n",
    "fi.index = model_rf2.feature_names_in_\n",
    "fi.nlargest(20)"
   ]
  },
  {
   "cell_type": "code",
   "execution_count": 150,
   "id": "2fc44d83",
   "metadata": {},
   "outputs": [
    {
     "data": {
      "text/plain": [
       "<AxesSubplot:>"
      ]
     },
     "execution_count": 150,
     "metadata": {},
     "output_type": "execute_result"
    },
    {
     "data": {
      "image/png": "[encoded data removed]",
      "text/plain": [
       "<Figure size 432x288 with 1 Axes>"
      ]
     },
     "metadata": {
      "needs_background": "light"
     },
     "output_type": "display_data"
    }
   ],
   "source": [
    "fi.nlargest(20).plot.barh()"
   ]
  }
 ],
 "metadata": {
  "kernelspec": {
   "display_name": "Python 3 (ipykernel)",
   "language": "python",
   "name": "python3"
  },
  "language_info": {
   "codemirror_mode": {
    "name": "ipython",
    "version": 3
   },
   "file_extension": ".py",
   "mimetype": "text/x-python",
   "name": "python",
   "nbconvert_exporter": "python",
   "pygments_lexer": "ipython3",
   "version": "3.9.12"
  },
  "toc": {
   "base_numbering": 1,
   "nav_menu": {},
   "number_sections": true,
   "sideBar": true,
   "skip_h1_title": false,
   "title_cell": "Table of Contents",
   "title_sidebar": "Contents",
   "toc_cell": false,
   "toc_position": {},
   "toc_section_display": true,
   "toc_window_display": false
  }
 },
 "nbformat": 4,
 "nbformat_minor": 5
}
