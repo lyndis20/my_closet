{
 "cells": [
  {
   "cell_type": "code",
   "execution_count": 1,
   "id": "4f7a9d93",
   "metadata": {},
   "outputs": [],
   "source": [
    "import pandas as pd\n",
    "import numpy as np\n",
    "import seaborn as sns\n",
    "import matplotlib.pyplot as plt\n",
    "import koreanize_matplotlib"
   ]
  },
  {
   "cell_type": "code",
   "execution_count": 2,
   "id": "1827a3e8",
   "metadata": {},
   "outputs": [],
   "source": [
    "path = \"/Users/younghyunkim/Desktop/dataproject/my_closet/raw_data\""
   ]
  },
  {
   "cell_type": "code",
   "execution_count": 3,
   "id": "29b8e0b9",
   "metadata": {},
   "outputs": [
    {
     "data": {
      "text/html": [
       "<div>\n",
       "<style scoped>\n",
       "    .dataframe tbody tr th:only-of-type {\n",
       "        vertical-align: middle;\n",
       "    }\n",
       "\n",
       "    .dataframe tbody tr th {\n",
       "        vertical-align: top;\n",
       "    }\n",
       "\n",
       "    .dataframe thead th {\n",
       "        text-align: right;\n",
       "    }\n",
       "</style>\n",
       "<table border=\"1\" class=\"dataframe\">\n",
       "  <thead>\n",
       "    <tr style=\"text-align: right;\">\n",
       "      <th></th>\n",
       "      <th>제품명</th>\n",
       "      <th>계절</th>\n",
       "      <th>구매 년도</th>\n",
       "      <th>카테고리</th>\n",
       "      <th>구매처</th>\n",
       "      <th>브랜드 여부</th>\n",
       "      <th>구매 전 착용 여부</th>\n",
       "      <th>색상</th>\n",
       "      <th>가격</th>\n",
       "      <th>유행 여부</th>\n",
       "      <th>구매 목적</th>\n",
       "      <th>최근 1년 내 착용 여부</th>\n",
       "      <th>착용 빈도</th>\n",
       "      <th>만족도</th>\n",
       "      <th>주변 평가</th>\n",
       "      <th>성공점수</th>\n",
       "      <th>색상그룹</th>\n",
       "      <th>가격_bin</th>\n",
       "      <th>가격_q_bin</th>\n",
       "      <th>성공여부</th>\n",
       "    </tr>\n",
       "  </thead>\n",
       "  <tbody>\n",
       "    <tr>\n",
       "      <th>0</th>\n",
       "      <td>배색 가디건 네이비</td>\n",
       "      <td>봄가을</td>\n",
       "      <td>2021</td>\n",
       "      <td>상의</td>\n",
       "      <td>1</td>\n",
       "      <td>0</td>\n",
       "      <td>1</td>\n",
       "      <td>네이비</td>\n",
       "      <td>3</td>\n",
       "      <td>0</td>\n",
       "      <td>일상</td>\n",
       "      <td>1</td>\n",
       "      <td>5</td>\n",
       "      <td>5</td>\n",
       "      <td>3</td>\n",
       "      <td>4.333333</td>\n",
       "      <td>블루 계열</td>\n",
       "      <td>1-4</td>\n",
       "      <td>매우 낮은 가격</td>\n",
       "      <td>1</td>\n",
       "    </tr>\n",
       "    <tr>\n",
       "      <th>1</th>\n",
       "      <td>배색 가디건 하늘</td>\n",
       "      <td>봄가을</td>\n",
       "      <td>2021</td>\n",
       "      <td>상의</td>\n",
       "      <td>0</td>\n",
       "      <td>0</td>\n",
       "      <td>1</td>\n",
       "      <td>스카이블루</td>\n",
       "      <td>3</td>\n",
       "      <td>0</td>\n",
       "      <td>일상</td>\n",
       "      <td>1</td>\n",
       "      <td>3</td>\n",
       "      <td>4</td>\n",
       "      <td>4</td>\n",
       "      <td>3.666667</td>\n",
       "      <td>블루 계열</td>\n",
       "      <td>1-4</td>\n",
       "      <td>매우 낮은 가격</td>\n",
       "      <td>1</td>\n",
       "    </tr>\n",
       "    <tr>\n",
       "      <th>2</th>\n",
       "      <td>줄무늬 티셔츠</td>\n",
       "      <td>봄가을</td>\n",
       "      <td>2014</td>\n",
       "      <td>상의</td>\n",
       "      <td>0</td>\n",
       "      <td>0</td>\n",
       "      <td>0</td>\n",
       "      <td>네이비</td>\n",
       "      <td>1</td>\n",
       "      <td>0</td>\n",
       "      <td>일상</td>\n",
       "      <td>1</td>\n",
       "      <td>4</td>\n",
       "      <td>5</td>\n",
       "      <td>4</td>\n",
       "      <td>4.333333</td>\n",
       "      <td>블루 계열</td>\n",
       "      <td>1-4</td>\n",
       "      <td>매우 낮은 가격</td>\n",
       "      <td>1</td>\n",
       "    </tr>\n",
       "    <tr>\n",
       "      <th>3</th>\n",
       "      <td>파란색 크롭 셔츠</td>\n",
       "      <td>봄가을</td>\n",
       "      <td>2023</td>\n",
       "      <td>상의</td>\n",
       "      <td>1</td>\n",
       "      <td>1</td>\n",
       "      <td>0</td>\n",
       "      <td>스카이블루</td>\n",
       "      <td>4</td>\n",
       "      <td>1</td>\n",
       "      <td>일상</td>\n",
       "      <td>1</td>\n",
       "      <td>4</td>\n",
       "      <td>4</td>\n",
       "      <td>4</td>\n",
       "      <td>4.000000</td>\n",
       "      <td>블루 계열</td>\n",
       "      <td>1-4</td>\n",
       "      <td>낮은 가격</td>\n",
       "      <td>1</td>\n",
       "    </tr>\n",
       "    <tr>\n",
       "      <th>4</th>\n",
       "      <td>\b숏 트렌치 코트</td>\n",
       "      <td>봄가을</td>\n",
       "      <td>2023</td>\n",
       "      <td>겉옷</td>\n",
       "      <td>0</td>\n",
       "      <td>1</td>\n",
       "      <td>1</td>\n",
       "      <td>베이지</td>\n",
       "      <td>16</td>\n",
       "      <td>1</td>\n",
       "      <td>일상</td>\n",
       "      <td>1</td>\n",
       "      <td>3</td>\n",
       "      <td>4</td>\n",
       "      <td>3</td>\n",
       "      <td>3.333333</td>\n",
       "      <td>브라운 계열</td>\n",
       "      <td>12-16</td>\n",
       "      <td>높은 가격</td>\n",
       "      <td>1</td>\n",
       "    </tr>\n",
       "  </tbody>\n",
       "</table>\n",
       "</div>"
      ],
      "text/plain": [
       "          제품명   계절  구매 년도 카테고리  구매처  브랜드 여부  구매 전 착용 여부     색상  가격  유행 여부  \\\n",
       "0  배색 가디건 네이비  봄가을   2021   상의    1       0           1    네이비   3      0   \n",
       "1   배색 가디건 하늘  봄가을   2021   상의    0       0           1  스카이블루   3      0   \n",
       "2     줄무늬 티셔츠  봄가을   2014   상의    0       0           0    네이비   1      0   \n",
       "3   파란색 크롭 셔츠  봄가을   2023   상의    1       1           0  스카이블루   4      1   \n",
       "4   \b숏 트렌치 코트  봄가을   2023   겉옷    0       1           1    베이지  16      1   \n",
       "\n",
       "  구매 목적  최근 1년 내 착용 여부  착용 빈도  만족도  주변 평가      성공점수    색상그룹 가격_bin  가격_q_bin  \\\n",
       "0    일상              1      5    5      3  4.333333   블루 계열    1-4  매우 낮은 가격   \n",
       "1    일상              1      3    4      4  3.666667   블루 계열    1-4  매우 낮은 가격   \n",
       "2    일상              1      4    5      4  4.333333   블루 계열    1-4  매우 낮은 가격   \n",
       "3    일상              1      4    4      4  4.000000   블루 계열    1-4     낮은 가격   \n",
       "4    일상              1      3    4      3  3.333333  브라운 계열  12-16     높은 가격   \n",
       "\n",
       "   성공여부  \n",
       "0     1  \n",
       "1     1  \n",
       "2     1  \n",
       "3     1  \n",
       "4     1  "
      ]
     },
     "execution_count": 3,
     "metadata": {},
     "output_type": "execute_result"
    }
   ],
   "source": [
    "df = pd.read_csv(f\"{path}/closet_data_v3.csv\")\n",
    "df.head()"
   ]
  },
  {
   "cell_type": "code",
   "execution_count": 4,
   "id": "ed9072f9",
   "metadata": {},
   "outputs": [
    {
     "data": {
      "text/plain": [
       "(150, 20)"
      ]
     },
     "execution_count": 4,
     "metadata": {},
     "output_type": "execute_result"
    }
   ],
   "source": [
    "df.shape"
   ]
  },
  {
   "cell_type": "code",
   "execution_count": 5,
   "id": "bb12e0b2",
   "metadata": {},
   "outputs": [
    {
     "data": {
      "text/plain": [
       "3.2177777777599985"
      ]
     },
     "execution_count": 5,
     "metadata": {},
     "output_type": "execute_result"
    }
   ],
   "source": [
    "df['성공점수'].mean()"
   ]
  },
  {
   "cell_type": "code",
   "execution_count": 6,
   "id": "cccceda1",
   "metadata": {},
   "outputs": [
    {
     "data": {
      "text/plain": [
       "3.333333333"
      ]
     },
     "execution_count": 6,
     "metadata": {},
     "output_type": "execute_result"
    }
   ],
   "source": [
    "df['성공점수'].median()"
   ]
  },
  {
   "cell_type": "code",
   "execution_count": 7,
   "id": "d3c2f306",
   "metadata": {},
   "outputs": [
    {
     "data": {
      "text/plain": [
       "0    블루 계열\n",
       "Name: 색상그룹, dtype: object"
      ]
     },
     "execution_count": 7,
     "metadata": {},
     "output_type": "execute_result"
    }
   ],
   "source": [
    "df['색상그룹'].mode()"
   ]
  },
  {
   "cell_type": "code",
   "execution_count": 8,
   "id": "55bafa12",
   "metadata": {},
   "outputs": [
    {
     "data": {
      "text/plain": [
       "<AxesSubplot:>"
      ]
     },
     "execution_count": 8,
     "metadata": {},
     "output_type": "execute_result"
    },
    {
     "data": {
      "image/png": "[encoded data removed]",
      "text/plain": [
       "<Figure size 864x576 with 1 Axes>"
      ]
     },
     "metadata": {
      "needs_background": "light"
     },
     "output_type": "display_data"
    }
   ],
   "source": [
    "df['성공점수'].hist(bins=10, figsize=(12,8))"
   ]
  },
  {
   "cell_type": "code",
   "execution_count": 9,
   "id": "31ccb6a3",
   "metadata": {},
   "outputs": [
    {
     "name": "stderr",
     "output_type": "stream",
     "text": [
      "/Users/younghyunkim/opt/anaconda3/lib/python3.9/site-packages/outdated/utils.py:14: OutdatedPackageWarning: The package outdated is out of date. Your version is 0.2.1, the latest is 0.2.2.\n",
      "Set the environment variable OUTDATED_IGNORE=1 to disable these warnings.\n",
      "  return warn(\n",
      "/Users/younghyunkim/opt/anaconda3/lib/python3.9/site-packages/outdated/utils.py:14: OutdatedPackageWarning: The package pingouin is out of date. Your version is 0.5.2, the latest is 0.5.3.\n",
      "Set the environment variable OUTDATED_IGNORE=1 to disable these warnings.\n",
      "  return warn(\n"
     ]
    }
   ],
   "source": [
    "# pip install pingouin\n",
    "import pingouin as pg"
   ]
  },
  {
   "cell_type": "code",
   "execution_count": 10,
   "id": "357e37fd",
   "metadata": {},
   "outputs": [
    {
     "data": {
      "text/html": [
       "<div>\n",
       "<style scoped>\n",
       "    .dataframe tbody tr th:only-of-type {\n",
       "        vertical-align: middle;\n",
       "    }\n",
       "\n",
       "    .dataframe tbody tr th {\n",
       "        vertical-align: top;\n",
       "    }\n",
       "\n",
       "    .dataframe thead th {\n",
       "        text-align: right;\n",
       "    }\n",
       "</style>\n",
       "<table border=\"1\" class=\"dataframe\">\n",
       "  <thead>\n",
       "    <tr style=\"text-align: right;\">\n",
       "      <th></th>\n",
       "      <th>T</th>\n",
       "      <th>dof</th>\n",
       "      <th>alternative</th>\n",
       "      <th>p-val</th>\n",
       "      <th>CI95%</th>\n",
       "      <th>cohen-d</th>\n",
       "      <th>BF10</th>\n",
       "      <th>power</th>\n",
       "    </tr>\n",
       "  </thead>\n",
       "  <tbody>\n",
       "    <tr>\n",
       "      <th>T-test</th>\n",
       "      <td>41.591792</td>\n",
       "      <td>149</td>\n",
       "      <td>two-sided</td>\n",
       "      <td>6.749313e-84</td>\n",
       "      <td>[3.06, 3.37]</td>\n",
       "      <td>3.395956</td>\n",
       "      <td>1.379e+80</td>\n",
       "      <td>1.0</td>\n",
       "    </tr>\n",
       "  </tbody>\n",
       "</table>\n",
       "</div>"
      ],
      "text/plain": [
       "                T  dof alternative         p-val         CI95%   cohen-d  \\\n",
       "T-test  41.591792  149   two-sided  6.749313e-84  [3.06, 3.37]  3.395956   \n",
       "\n",
       "             BF10  power  \n",
       "T-test  1.379e+80    1.0  "
      ]
     },
     "execution_count": 10,
     "metadata": {},
     "output_type": "execute_result"
    }
   ],
   "source": [
    "# 신뢰 구간 구하기\n",
    "\n",
    "pg.ttest(df[\"성공점수\"], 0, confidence=0.95)"
   ]
  },
  {
   "cell_type": "code",
   "execution_count": 16,
   "id": "5ae15750",
   "metadata": {},
   "outputs": [
    {
     "data": {
      "text/plain": [
       "BootstrapResult(confidence_interval=ConfidenceInterval(low=3.0599999999799996, high=3.359999999993333), standard_error=0.07717684493426742)"
      ]
     },
     "execution_count": 16,
     "metadata": {},
     "output_type": "execute_result"
    }
   ],
   "source": [
    "import scipy #numpy랑 같이 불러오기\n",
    "scipy.stats.bootstrap([df['성공점수']], np.mean)"
   ]
  },
  {
   "cell_type": "code",
   "execution_count": 17,
   "id": "ad97a816",
   "metadata": {},
   "outputs": [
    {
     "data": {
      "text/plain": [
       "BootstrapResult(confidence_interval=ConfidenceInterval(low=3.0, high=3.333333333), standard_error=0.13304524473840948)"
      ]
     },
     "execution_count": 17,
     "metadata": {},
     "output_type": "execute_result"
    }
   ],
   "source": [
    "scipy.stats.bootstrap([df['성공점수']], np.median, confidence_level=0.99)"
   ]
  },
  {
   "cell_type": "code",
   "execution_count": 18,
   "id": "2bfed039",
   "metadata": {},
   "outputs": [
    {
     "data": {
      "text/html": [
       "<div>\n",
       "<style scoped>\n",
       "    .dataframe tbody tr th:only-of-type {\n",
       "        vertical-align: middle;\n",
       "    }\n",
       "\n",
       "    .dataframe tbody tr th {\n",
       "        vertical-align: top;\n",
       "    }\n",
       "\n",
       "    .dataframe thead th {\n",
       "        text-align: right;\n",
       "    }\n",
       "</style>\n",
       "<table border=\"1\" class=\"dataframe\">\n",
       "  <thead>\n",
       "    <tr style=\"text-align: right;\">\n",
       "      <th></th>\n",
       "      <th>T</th>\n",
       "      <th>dof</th>\n",
       "      <th>alternative</th>\n",
       "      <th>p-val</th>\n",
       "      <th>CI95%</th>\n",
       "      <th>cohen-d</th>\n",
       "      <th>BF10</th>\n",
       "      <th>power</th>\n",
       "    </tr>\n",
       "  </thead>\n",
       "  <tbody>\n",
       "    <tr>\n",
       "      <th>T-test</th>\n",
       "      <td>-3.647899</td>\n",
       "      <td>149</td>\n",
       "      <td>two-sided</td>\n",
       "      <td>0.000365</td>\n",
       "      <td>[3.06, 3.37]</td>\n",
       "      <td>0.29785</td>\n",
       "      <td>47.594</td>\n",
       "      <td>0.951976</td>\n",
       "    </tr>\n",
       "  </tbody>\n",
       "</table>\n",
       "</div>"
      ],
      "text/plain": [
       "               T  dof alternative     p-val         CI95%  cohen-d    BF10  \\\n",
       "T-test -3.647899  149   two-sided  0.000365  [3.06, 3.37]  0.29785  47.594   \n",
       "\n",
       "           power  \n",
       "T-test  0.951976  "
      ]
     },
     "execution_count": 18,
     "metadata": {},
     "output_type": "execute_result"
    }
   ],
   "source": [
    "#귀무가설: 설마 900만원은 아니곘지? p 발류를 a와 비교 \n",
    "#유의수준(5% = 0.05)\n",
    "#0.021852 < 0.05 귀무 가설 기각 (통계적으로 유의함-> 기각 -  귀무가설이 틀렸다 ) (상식 파괴)\n",
    "pg.ttest(df['성공점수'], 3.5, confidence=0.95)"
   ]
  },
  {
   "cell_type": "code",
   "execution_count": 24,
   "id": "5cc36ad1",
   "metadata": {},
   "outputs": [
    {
     "data": {
      "text/plain": [
       "<AxesSubplot:xlabel='가격', ylabel='성공점수'>"
      ]
     },
     "execution_count": 24,
     "metadata": {},
     "output_type": "execute_result"
    },
    {
     "data": {
      "image/png": "[encoded data removed]",
      "text/plain": [
       "<Figure size 432x288 with 1 Axes>"
      ]
     },
     "metadata": {
      "needs_background": "light"
     },
     "output_type": "display_data"
    }
   ],
   "source": [
    "sns.scatterplot(x='가격', y='성공점수', data=df)"
   ]
  },
  {
   "cell_type": "code",
   "execution_count": 25,
   "id": "ed484db2",
   "metadata": {},
   "outputs": [
    {
     "data": {
      "text/html": [
       "<div>\n",
       "<style scoped>\n",
       "    .dataframe tbody tr th:only-of-type {\n",
       "        vertical-align: middle;\n",
       "    }\n",
       "\n",
       "    .dataframe tbody tr th {\n",
       "        vertical-align: top;\n",
       "    }\n",
       "\n",
       "    .dataframe thead th {\n",
       "        text-align: right;\n",
       "    }\n",
       "</style>\n",
       "<table border=\"1\" class=\"dataframe\">\n",
       "  <thead>\n",
       "    <tr style=\"text-align: right;\">\n",
       "      <th></th>\n",
       "      <th>n</th>\n",
       "      <th>r</th>\n",
       "      <th>CI95%</th>\n",
       "      <th>p-val</th>\n",
       "      <th>BF10</th>\n",
       "      <th>power</th>\n",
       "    </tr>\n",
       "  </thead>\n",
       "  <tbody>\n",
       "    <tr>\n",
       "      <th>pearson</th>\n",
       "      <td>150</td>\n",
       "      <td>-0.002021</td>\n",
       "      <td>[-0.16, 0.16]</td>\n",
       "      <td>0.980416</td>\n",
       "      <td>0.102</td>\n",
       "      <td>0.049963</td>\n",
       "    </tr>\n",
       "  </tbody>\n",
       "</table>\n",
       "</div>"
      ],
      "text/plain": [
       "           n         r          CI95%     p-val   BF10     power\n",
       "pearson  150 -0.002021  [-0.16, 0.16]  0.980416  0.102  0.049963"
      ]
     },
     "execution_count": 25,
     "metadata": {},
     "output_type": "execute_result"
    }
   ],
   "source": [
    "pg.corr(df['가격'], df['성공점수']) #표본상관계수 r값"
   ]
  },
  {
   "cell_type": "code",
   "execution_count": 26,
   "id": "24c44b22",
   "metadata": {},
   "outputs": [],
   "source": [
    "from statsmodels.formula.api import ols"
   ]
  },
  {
   "cell_type": "code",
   "execution_count": 35,
   "id": "2c5c2946",
   "metadata": {},
   "outputs": [],
   "source": [
    "# p < a - 통계적으로 유의한 차이가 있다(\"두 집단의 평균이 다르다\") (a=0.05)"
   ]
  },
  {
   "cell_type": "code",
   "execution_count": 11,
   "id": "4b5ac6ff",
   "metadata": {},
   "outputs": [],
   "source": [
    "#카테고리별로 확인해보기\n",
    "df_b = df[df['카테고리'] == '하의']\n",
    "df_t = df[df['카테고리'] == '상의']\n",
    "df_o = df[df['카테고리'] == '겉옷']\n",
    "df_one = df[df['카테고리'] == '원피스']"
   ]
  },
  {
   "cell_type": "code",
   "execution_count": 16,
   "id": "b76e48f5",
   "metadata": {},
   "outputs": [
    {
     "data": {
      "text/html": [
       "<div>\n",
       "<style scoped>\n",
       "    .dataframe tbody tr th:only-of-type {\n",
       "        vertical-align: middle;\n",
       "    }\n",
       "\n",
       "    .dataframe tbody tr th {\n",
       "        vertical-align: top;\n",
       "    }\n",
       "\n",
       "    .dataframe thead th {\n",
       "        text-align: right;\n",
       "    }\n",
       "</style>\n",
       "<table border=\"1\" class=\"dataframe\">\n",
       "  <thead>\n",
       "    <tr style=\"text-align: right;\">\n",
       "      <th></th>\n",
       "      <th>T</th>\n",
       "      <th>dof</th>\n",
       "      <th>alternative</th>\n",
       "      <th>p-val</th>\n",
       "      <th>CI95%</th>\n",
       "      <th>cohen-d</th>\n",
       "      <th>BF10</th>\n",
       "      <th>power</th>\n",
       "    </tr>\n",
       "  </thead>\n",
       "  <tbody>\n",
       "    <tr>\n",
       "      <th>T-test</th>\n",
       "      <td>0.986901</td>\n",
       "      <td>24.380236</td>\n",
       "      <td>two-sided</td>\n",
       "      <td>0.333385</td>\n",
       "      <td>[-0.44, 1.24]</td>\n",
       "      <td>0.374504</td>\n",
       "      <td>0.511</td>\n",
       "      <td>0.15685</td>\n",
       "    </tr>\n",
       "  </tbody>\n",
       "</table>\n",
       "</div>"
      ],
      "text/plain": [
       "               T        dof alternative     p-val          CI95%   cohen-d  \\\n",
       "T-test  0.986901  24.380236   two-sided  0.333385  [-0.44, 1.24]  0.374504   \n",
       "\n",
       "         BF10    power  \n",
       "T-test  0.511  0.15685  "
      ]
     },
     "execution_count": 16,
     "metadata": {},
     "output_type": "execute_result"
    }
   ],
   "source": [
    "# 하의는 입어보고 구매한 경우와 그렇지 않은 경우 두 집단은 같다 -> p값이 0.05보다 크므로 두 집단은 유사하다.\n",
    "try_yes = df_b['성공점수'][df_b[\"구매 전 착용 여부\"] == 1]\n",
    "try_no = df_b['성공점수'][df_b[\"구매 전 착용 여부\"] == 0]\n",
    "pg.ttest(try_yes, try_no, confidence=0.95)"
   ]
  },
  {
   "cell_type": "code",
   "execution_count": 15,
   "id": "55444455",
   "metadata": {},
   "outputs": [
    {
     "data": {
      "text/html": [
       "<div>\n",
       "<style scoped>\n",
       "    .dataframe tbody tr th:only-of-type {\n",
       "        vertical-align: middle;\n",
       "    }\n",
       "\n",
       "    .dataframe tbody tr th {\n",
       "        vertical-align: top;\n",
       "    }\n",
       "\n",
       "    .dataframe thead th {\n",
       "        text-align: right;\n",
       "    }\n",
       "</style>\n",
       "<table border=\"1\" class=\"dataframe\">\n",
       "  <thead>\n",
       "    <tr style=\"text-align: right;\">\n",
       "      <th></th>\n",
       "      <th>T</th>\n",
       "      <th>dof</th>\n",
       "      <th>alternative</th>\n",
       "      <th>p-val</th>\n",
       "      <th>CI95%</th>\n",
       "      <th>cohen-d</th>\n",
       "      <th>BF10</th>\n",
       "      <th>power</th>\n",
       "    </tr>\n",
       "  </thead>\n",
       "  <tbody>\n",
       "    <tr>\n",
       "      <th>T-test</th>\n",
       "      <td>2.445386</td>\n",
       "      <td>4.39668</td>\n",
       "      <td>two-sided</td>\n",
       "      <td>0.06511</td>\n",
       "      <td>[-0.11, 2.35]</td>\n",
       "      <td>1.278543</td>\n",
       "      <td>2.794</td>\n",
       "      <td>0.61222</td>\n",
       "    </tr>\n",
       "  </tbody>\n",
       "</table>\n",
       "</div>"
      ],
      "text/plain": [
       "               T      dof alternative    p-val          CI95%   cohen-d  \\\n",
       "T-test  2.445386  4.39668   two-sided  0.06511  [-0.11, 2.35]  1.278543   \n",
       "\n",
       "         BF10    power  \n",
       "T-test  2.794  0.61222  "
      ]
     },
     "execution_count": 15,
     "metadata": {},
     "output_type": "execute_result"
    }
   ],
   "source": [
    "# 겉옷은 입어보고 구매한 경우와 그렇지 않은 경우 두 집단의 성공점수 평균은 같다\n",
    "try_yes = df_o['성공점수'][df_o[\"구매 전 착용 여부\"] == 1]\n",
    "try_no = df_o['성공점수'][df_o[\"구매 전 착용 여부\"] == 0]\n",
    "pg.ttest(try_yes, try_no, confidence=0.95)"
   ]
  },
  {
   "cell_type": "code",
   "execution_count": 18,
   "id": "403b7dce",
   "metadata": {},
   "outputs": [
    {
     "data": {
      "text/html": [
       "<div>\n",
       "<style scoped>\n",
       "    .dataframe tbody tr th:only-of-type {\n",
       "        vertical-align: middle;\n",
       "    }\n",
       "\n",
       "    .dataframe tbody tr th {\n",
       "        vertical-align: top;\n",
       "    }\n",
       "\n",
       "    .dataframe thead th {\n",
       "        text-align: right;\n",
       "    }\n",
       "</style>\n",
       "<table border=\"1\" class=\"dataframe\">\n",
       "  <thead>\n",
       "    <tr style=\"text-align: right;\">\n",
       "      <th></th>\n",
       "      <th>T</th>\n",
       "      <th>dof</th>\n",
       "      <th>alternative</th>\n",
       "      <th>p-val</th>\n",
       "      <th>CI95%</th>\n",
       "      <th>cohen-d</th>\n",
       "      <th>BF10</th>\n",
       "      <th>power</th>\n",
       "    </tr>\n",
       "  </thead>\n",
       "  <tbody>\n",
       "    <tr>\n",
       "      <th>T-test</th>\n",
       "      <td>-1.82953</td>\n",
       "      <td>17.825148</td>\n",
       "      <td>two-sided</td>\n",
       "      <td>0.084098</td>\n",
       "      <td>[-1.12, 0.08]</td>\n",
       "      <td>0.617403</td>\n",
       "      <td>1.107</td>\n",
       "      <td>0.57093</td>\n",
       "    </tr>\n",
       "  </tbody>\n",
       "</table>\n",
       "</div>"
      ],
      "text/plain": [
       "              T        dof alternative     p-val          CI95%   cohen-d  \\\n",
       "T-test -1.82953  17.825148   two-sided  0.084098  [-1.12, 0.08]  0.617403   \n",
       "\n",
       "         BF10    power  \n",
       "T-test  1.107  0.57093  "
      ]
     },
     "execution_count": 18,
     "metadata": {},
     "output_type": "execute_result"
    }
   ],
   "source": [
    "# 상의는 유행하는 디자인의 경우와 그렇지 않은 경우에도 두 집단의 성공점수 평균은 같다\n",
    "trend_yes = df_t['성공점수'][df_t[\"유행 여부\"] == 1]\n",
    "trend_no = df_t['성공점수'][df_t[\"유행 여부\"] == 0]\n",
    "pg.ttest(trend_yes, trend_no, confidence=0.95)"
   ]
  },
  {
   "cell_type": "code",
   "execution_count": 19,
   "id": "9d3305cc",
   "metadata": {},
   "outputs": [
    {
     "data": {
      "text/html": [
       "<div>\n",
       "<style scoped>\n",
       "    .dataframe tbody tr th:only-of-type {\n",
       "        vertical-align: middle;\n",
       "    }\n",
       "\n",
       "    .dataframe tbody tr th {\n",
       "        vertical-align: top;\n",
       "    }\n",
       "\n",
       "    .dataframe thead th {\n",
       "        text-align: right;\n",
       "    }\n",
       "</style>\n",
       "<table border=\"1\" class=\"dataframe\">\n",
       "  <thead>\n",
       "    <tr style=\"text-align: right;\">\n",
       "      <th></th>\n",
       "      <th>T</th>\n",
       "      <th>dof</th>\n",
       "      <th>alternative</th>\n",
       "      <th>p-val</th>\n",
       "      <th>CI95%</th>\n",
       "      <th>cohen-d</th>\n",
       "      <th>BF10</th>\n",
       "      <th>power</th>\n",
       "    </tr>\n",
       "  </thead>\n",
       "  <tbody>\n",
       "    <tr>\n",
       "      <th>T-test</th>\n",
       "      <td>-2.551741</td>\n",
       "      <td>1.631003</td>\n",
       "      <td>two-sided</td>\n",
       "      <td>0.152755</td>\n",
       "      <td>[-4.49, 1.6]</td>\n",
       "      <td>1.598676</td>\n",
       "      <td>2.557</td>\n",
       "      <td>0.486092</td>\n",
       "    </tr>\n",
       "  </tbody>\n",
       "</table>\n",
       "</div>"
      ],
      "text/plain": [
       "               T       dof alternative     p-val         CI95%   cohen-d  \\\n",
       "T-test -2.551741  1.631003   two-sided  0.152755  [-4.49, 1.6]  1.598676   \n",
       "\n",
       "         BF10     power  \n",
       "T-test  2.557  0.486092  "
      ]
     },
     "execution_count": 19,
     "metadata": {},
     "output_type": "execute_result"
    }
   ],
   "source": [
    "# 원피스는 유행하는 디자인의 경우와 그렇지 않은 경우에도 두 집단의 성공점수 평균은 같다\n",
    "trend_yes = df_one['성공점수'][df_one[\"유행 여부\"] == 1]\n",
    "trend_no = df_one['성공점수'][df_one[\"유행 여부\"] == 0]\n",
    "pg.ttest(trend_yes, trend_no, confidence=0.95)"
   ]
  },
  {
   "cell_type": "code",
   "execution_count": 20,
   "id": "a4104d38",
   "metadata": {},
   "outputs": [
    {
     "data": {
      "text/html": [
       "<div>\n",
       "<style scoped>\n",
       "    .dataframe tbody tr th:only-of-type {\n",
       "        vertical-align: middle;\n",
       "    }\n",
       "\n",
       "    .dataframe tbody tr th {\n",
       "        vertical-align: top;\n",
       "    }\n",
       "\n",
       "    .dataframe thead th {\n",
       "        text-align: right;\n",
       "    }\n",
       "</style>\n",
       "<table border=\"1\" class=\"dataframe\">\n",
       "  <thead>\n",
       "    <tr style=\"text-align: right;\">\n",
       "      <th></th>\n",
       "      <th>T</th>\n",
       "      <th>dof</th>\n",
       "      <th>alternative</th>\n",
       "      <th>p-val</th>\n",
       "      <th>CI95%</th>\n",
       "      <th>cohen-d</th>\n",
       "      <th>BF10</th>\n",
       "      <th>power</th>\n",
       "    </tr>\n",
       "  </thead>\n",
       "  <tbody>\n",
       "    <tr>\n",
       "      <th>T-test</th>\n",
       "      <td>-1.063235</td>\n",
       "      <td>10.204251</td>\n",
       "      <td>two-sided</td>\n",
       "      <td>0.312189</td>\n",
       "      <td>[-1.18, 0.42]</td>\n",
       "      <td>0.397457</td>\n",
       "      <td>0.621</td>\n",
       "      <td>0.118737</td>\n",
       "    </tr>\n",
       "  </tbody>\n",
       "</table>\n",
       "</div>"
      ],
      "text/plain": [
       "               T        dof alternative     p-val          CI95%   cohen-d  \\\n",
       "T-test -1.063235  10.204251   two-sided  0.312189  [-1.18, 0.42]  0.397457   \n",
       "\n",
       "         BF10     power  \n",
       "T-test  0.621  0.118737  "
      ]
     },
     "execution_count": 20,
     "metadata": {},
     "output_type": "execute_result"
    }
   ],
   "source": [
    "# 겉옷은 브랜드가 있는 경우와 그렇지 않은 경우에도 두집단의 성공점수 평균은 같다\n",
    "brand_yes = df_o['성공점수'][df_o[\"브랜드 여부\"] == 1]\n",
    "brand_no = df_o['성공점수'][df_o[\"브랜드 여부\"] == 0]\n",
    "pg.ttest(brand_yes, brand_no, confidence=0.95)"
   ]
  },
  {
   "cell_type": "code",
   "execution_count": 22,
   "id": "8ebe1c21",
   "metadata": {},
   "outputs": [
    {
     "data": {
      "text/html": [
       "<div>\n",
       "<style scoped>\n",
       "    .dataframe tbody tr th:only-of-type {\n",
       "        vertical-align: middle;\n",
       "    }\n",
       "\n",
       "    .dataframe tbody tr th {\n",
       "        vertical-align: top;\n",
       "    }\n",
       "\n",
       "    .dataframe thead th {\n",
       "        text-align: right;\n",
       "    }\n",
       "</style>\n",
       "<table border=\"1\" class=\"dataframe\">\n",
       "  <thead>\n",
       "    <tr style=\"text-align: right;\">\n",
       "      <th></th>\n",
       "      <th>T</th>\n",
       "      <th>dof</th>\n",
       "      <th>alternative</th>\n",
       "      <th>p-val</th>\n",
       "      <th>CI95%</th>\n",
       "      <th>cohen-d</th>\n",
       "      <th>BF10</th>\n",
       "      <th>power</th>\n",
       "    </tr>\n",
       "  </thead>\n",
       "  <tbody>\n",
       "    <tr>\n",
       "      <th>T-test</th>\n",
       "      <td>1.156603</td>\n",
       "      <td>12</td>\n",
       "      <td>two-sided</td>\n",
       "      <td>0.269941</td>\n",
       "      <td>[-0.55, 1.79]</td>\n",
       "      <td>0.61823</td>\n",
       "      <td>0.685</td>\n",
       "      <td>0.186843</td>\n",
       "    </tr>\n",
       "  </tbody>\n",
       "</table>\n",
       "</div>"
      ],
      "text/plain": [
       "               T  dof alternative     p-val          CI95%  cohen-d   BF10  \\\n",
       "T-test  1.156603   12   two-sided  0.269941  [-0.55, 1.79]  0.61823  0.685   \n",
       "\n",
       "           power  \n",
       "T-test  0.186843  "
      ]
     },
     "execution_count": 22,
     "metadata": {},
     "output_type": "execute_result"
    }
   ],
   "source": [
    "# 원피스는 브랜드가 있는 경우와 그렇지 않은 경우에도 두집단의 성공점수 평균은 같다\n",
    "brand_yes = df_one['성공점수'][df_one[\"브랜드 여부\"] == 1]\n",
    "brand_no = df_one['성공점수'][df_one[\"브랜드 여부\"] == 0]\n",
    "pg.ttest(brand_yes, brand_no, confidence=0.95)"
   ]
  },
  {
   "cell_type": "code",
   "execution_count": 23,
   "id": "1421c2ba",
   "metadata": {},
   "outputs": [
    {
     "data": {
      "text/html": [
       "<div>\n",
       "<style scoped>\n",
       "    .dataframe tbody tr th:only-of-type {\n",
       "        vertical-align: middle;\n",
       "    }\n",
       "\n",
       "    .dataframe tbody tr th {\n",
       "        vertical-align: top;\n",
       "    }\n",
       "\n",
       "    .dataframe thead th {\n",
       "        text-align: right;\n",
       "    }\n",
       "</style>\n",
       "<table border=\"1\" class=\"dataframe\">\n",
       "  <thead>\n",
       "    <tr style=\"text-align: right;\">\n",
       "      <th></th>\n",
       "      <th>T</th>\n",
       "      <th>dof</th>\n",
       "      <th>alternative</th>\n",
       "      <th>p-val</th>\n",
       "      <th>CI95%</th>\n",
       "      <th>cohen-d</th>\n",
       "      <th>BF10</th>\n",
       "      <th>power</th>\n",
       "    </tr>\n",
       "  </thead>\n",
       "  <tbody>\n",
       "    <tr>\n",
       "      <th>T-test</th>\n",
       "      <td>-0.380194</td>\n",
       "      <td>52.782408</td>\n",
       "      <td>two-sided</td>\n",
       "      <td>0.705327</td>\n",
       "      <td>[-0.46, 0.31]</td>\n",
       "      <td>0.076696</td>\n",
       "      <td>0.218</td>\n",
       "      <td>0.068032</td>\n",
       "    </tr>\n",
       "  </tbody>\n",
       "</table>\n",
       "</div>"
      ],
      "text/plain": [
       "               T        dof alternative     p-val          CI95%   cohen-d  \\\n",
       "T-test -0.380194  52.782408   two-sided  0.705327  [-0.46, 0.31]  0.076696   \n",
       "\n",
       "         BF10     power  \n",
       "T-test  0.218  0.068032  "
      ]
     },
     "execution_count": 23,
     "metadata": {},
     "output_type": "execute_result"
    }
   ],
   "source": [
    "# 구매처에 따른 두 집단의  성공점수 평균은 같다 \n",
    "online = df['성공점수'][df[\"구매처\"] == 1]\n",
    "offline = df['성공점수'][df[\"구매처\"] == 0]\n",
    "pg.ttest(online, offline, confidence=0.95)"
   ]
  },
  {
   "cell_type": "code",
   "execution_count": 28,
   "id": "579fc441",
   "metadata": {},
   "outputs": [
    {
     "data": {
      "text/html": [
       "<div>\n",
       "<style scoped>\n",
       "    .dataframe tbody tr th:only-of-type {\n",
       "        vertical-align: middle;\n",
       "    }\n",
       "\n",
       "    .dataframe tbody tr th {\n",
       "        vertical-align: top;\n",
       "    }\n",
       "\n",
       "    .dataframe thead th {\n",
       "        text-align: right;\n",
       "    }\n",
       "</style>\n",
       "<table border=\"1\" class=\"dataframe\">\n",
       "  <thead>\n",
       "    <tr style=\"text-align: right;\">\n",
       "      <th></th>\n",
       "      <th>T</th>\n",
       "      <th>dof</th>\n",
       "      <th>alternative</th>\n",
       "      <th>p-val</th>\n",
       "      <th>CI95%</th>\n",
       "      <th>cohen-d</th>\n",
       "      <th>BF10</th>\n",
       "      <th>power</th>\n",
       "    </tr>\n",
       "  </thead>\n",
       "  <tbody>\n",
       "    <tr>\n",
       "      <th>T-test</th>\n",
       "      <td>-0.380194</td>\n",
       "      <td>52.782408</td>\n",
       "      <td>two-sided</td>\n",
       "      <td>0.705327</td>\n",
       "      <td>[-0.46, 0.31]</td>\n",
       "      <td>0.076696</td>\n",
       "      <td>0.218</td>\n",
       "      <td>0.068032</td>\n",
       "    </tr>\n",
       "  </tbody>\n",
       "</table>\n",
       "</div>"
      ],
      "text/plain": [
       "               T        dof alternative     p-val          CI95%   cohen-d  \\\n",
       "T-test -0.380194  52.782408   two-sided  0.705327  [-0.46, 0.31]  0.076696   \n",
       "\n",
       "         BF10     power  \n",
       "T-test  0.218  0.068032  "
      ]
     },
     "execution_count": 28,
     "metadata": {},
     "output_type": "execute_result"
    }
   ],
   "source": [
    "# 구매처에 따른 두 집단의  성공점수 평균은 같다 \n",
    "online = df['성공점수'][df[\"구매처\"] == 1]\n",
    "offline = df['성공점수'][df[\"구매처\"] == 0]\n",
    "pg.ttest(online, offline, confidence=0.95)"
   ]
  }
 ],
 "metadata": {
  "kernelspec": {
   "display_name": "Python 3 (ipykernel)",
   "language": "python",
   "name": "python3"
  },
  "language_info": {
   "codemirror_mode": {
    "name": "ipython",
    "version": 3
   },
   "file_extension": ".py",
   "mimetype": "text/x-python",
   "name": "python",
   "nbconvert_exporter": "python",
   "pygments_lexer": "ipython3",
   "version": "3.9.12"
  },
  "toc": {
   "base_numbering": 1,
   "nav_menu": {},
   "number_sections": true,
   "sideBar": true,
   "skip_h1_title": false,
   "title_cell": "Table of Contents",
   "title_sidebar": "Contents",
   "toc_cell": false,
   "toc_position": {},
   "toc_section_display": true,
   "toc_window_display": false
  }
 },
 "nbformat": 4,
 "nbformat_minor": 5
}
